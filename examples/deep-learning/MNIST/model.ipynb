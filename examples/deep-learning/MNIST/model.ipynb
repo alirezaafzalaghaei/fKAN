{
 "cells": [
  {
   "cell_type": "markdown",
   "id": "8bdf6943-c8af-46a2-a1c1-e7a1b2b36b01",
   "metadata": {},
   "source": [
    "This notebook implementation incorporates elements from [this](https://keras.io/examples/vision/mnist_convnet/) Keras example."
   ]
  },
  {
   "cell_type": "code",
   "execution_count": 1,
   "id": "0171f9c5-10dc-4a62-a973-06cced1558c6",
   "metadata": {
    "execution": {
     "iopub.execute_input": "2024-06-11T20:06:55.791222Z",
     "iopub.status.busy": "2024-06-11T20:06:55.791021Z",
     "iopub.status.idle": "2024-06-11T20:06:57.162725Z",
     "shell.execute_reply": "2024-06-11T20:06:57.162406Z",
     "shell.execute_reply.started": "2024-06-11T20:06:55.791207Z"
    }
   },
   "outputs": [
    {
     "name": "stderr",
     "output_type": "stream",
     "text": [
      "2024-06-11 23:36:55.965039: I tensorflow/core/platform/cpu_feature_guard.cc:182] This TensorFlow binary is optimized to use available CPU instructions in performance-critical operations.\n",
      "To enable the following instructions: SSE4.1 SSE4.2 AVX AVX2 AVX_VNNI FMA, in other operations, rebuild TensorFlow with the appropriate compiler flags.\n"
     ]
    }
   ],
   "source": [
    "import numpy as np\n",
    "import tensorflow as tf\n",
    "import tensorflow.keras as keras\n",
    "from fkan.tensorflow import FractionalJacobiNeuralBlock as fJNB\n",
    "from sklearn.model_selection import train_test_split\n",
    "from tensorflow.keras import layers"
   ]
  },
  {
   "cell_type": "code",
   "execution_count": 2,
   "id": "2faaf524-0295-4428-a09b-ffaa59e8d9d2",
   "metadata": {
    "execution": {
     "iopub.execute_input": "2024-06-11T20:06:57.163539Z",
     "iopub.status.busy": "2024-06-11T20:06:57.163226Z",
     "iopub.status.idle": "2024-06-11T20:06:57.440857Z",
     "shell.execute_reply": "2024-06-11T20:06:57.440240Z",
     "shell.execute_reply.started": "2024-06-11T20:06:57.163521Z"
    }
   },
   "outputs": [],
   "source": [
    "# Model / data parameters\n",
    "num_classes = 10\n",
    "input_shape = (28, 28, 1)\n",
    "\n",
    "# Load the data and split it between train and test sets\n",
    "(x_train, y_train), (x_test, y_test) = keras.datasets.mnist.load_data()\n",
    "\n",
    "# Scale images to the [0, 1] range\n",
    "x_train = x_train.astype(\"float32\") / 255\n",
    "x_test = x_test.astype(\"float32\") / 255\n",
    "# Make sure images have shape (28, 28, 1)\n",
    "x_train = np.expand_dims(x_train, -1)\n",
    "x_test = np.expand_dims(x_test, -1)\n",
    "\n",
    "\n",
    "# assume x_train is your original dataset\n",
    "x_train, x_valid, y_train, y_valid = train_test_split(\n",
    "    x_train, y_train, test_size=0.1, random_state=42\n",
    ")\n",
    "\n",
    "# convert class vectors to binary class matrices\n",
    "y_train = keras.utils.to_categorical(y_train, num_classes)\n",
    "y_test = keras.utils.to_categorical(y_test, num_classes)\n",
    "y_valid = keras.utils.to_categorical(y_valid, num_classes)"
   ]
  },
  {
   "cell_type": "code",
   "execution_count": 3,
   "id": "de03cb3d-0a49-4b2f-b584-cb887460eaa5",
   "metadata": {
    "execution": {
     "iopub.execute_input": "2024-06-11T20:06:57.441471Z",
     "iopub.status.busy": "2024-06-11T20:06:57.441350Z",
     "iopub.status.idle": "2024-06-11T20:06:57.444278Z",
     "shell.execute_reply": "2024-06-11T20:06:57.443692Z",
     "shell.execute_reply.started": "2024-06-11T20:06:57.441460Z"
    }
   },
   "outputs": [],
   "source": [
    "batch_size = 512\n",
    "epochs = 30\n",
    "q = 2  # See paper for the definition and role of q\n",
    "trial = 1"
   ]
  },
  {
   "cell_type": "markdown",
   "id": "c06b037a-a833-460a-8dd3-d0db1cce6b7c",
   "metadata": {},
   "source": [
    "If using a predefined Keras activation function, replace each `fJNB(q)` with: `layers.Activation(activation)`"
   ]
  },
  {
   "cell_type": "code",
   "execution_count": 4,
   "id": "d8313a23-8eae-488a-95ac-18b3d431e352",
   "metadata": {
    "execution": {
     "iopub.execute_input": "2024-06-11T20:06:57.444761Z",
     "iopub.status.busy": "2024-06-11T20:06:57.444649Z",
     "iopub.status.idle": "2024-06-11T20:07:57.072228Z",
     "shell.execute_reply": "2024-06-11T20:07:57.071710Z",
     "shell.execute_reply.started": "2024-06-11T20:06:57.444750Z"
    }
   },
   "outputs": [
    {
     "name": "stderr",
     "output_type": "stream",
     "text": [
      "2024-06-11 23:36:57.458447: I tensorflow/core/common_runtime/process_util.cc:146] Creating new thread pool with default inter op setting: 2. Tune using inter_op_parallelism_threads for best performance.\n"
     ]
    },
    {
     "name": "stdout",
     "output_type": "stream",
     "text": [
      "14/14 [==============================] - 56s 4s/step - loss: 1.7947 - accuracy: 0.4890 - val_loss: 0.9630 - val_accuracy: 0.7987\n",
      "313/313 [==============================] - 3s 9ms/step - loss: 0.9438 - accuracy: 0.8084\n"
     ]
    }
   ],
   "source": [
    "model = keras.Sequential(\n",
    "    [\n",
    "        layers.InputLayer(input_shape=input_shape),\n",
    "        layers.Conv2D(32, kernel_size=(3, 3)),\n",
    "        fJNB(q),\n",
    "        layers.MaxPooling2D(pool_size=(2, 2)),\n",
    "        layers.Conv2D(64, kernel_size=(3, 3)),\n",
    "        fJNB(q),\n",
    "        layers.MaxPooling2D(pool_size=(2, 2)),\n",
    "        layers.Flatten(),\n",
    "        layers.Dropout(0.5),\n",
    "        layers.Dense(num_classes, activation=\"softmax\"),\n",
    "    ]\n",
    ")\n",
    "\n",
    "model.compile(loss=\"categorical_crossentropy\", optimizer=\"adam\", metrics=[\"accuracy\"])\n",
    "\n",
    "history = model.fit(\n",
    "    x_train,\n",
    "    y_train,\n",
    "    batch_size=batch_size,\n",
    "    epochs=epochs,\n",
    "    validation_data=(x_valid, y_valid),\n",
    "    verbose=1,\n",
    ")\n",
    "score = model.evaluate(x_test, y_test, verbose=1)\n",
    "print(history.history, \"\\n\", score, file=open(\"data/history-JNB%s-%d.txt\" % (q, trial), \"w\"))"
   ]
  },
  {
   "cell_type": "code",
   "execution_count": null,
   "id": "e848c8b1-1e67-4b10-badf-59c80f491579",
   "metadata": {},
   "outputs": [],
   "source": []
  }
 ],
 "metadata": {
  "kernelspec": {
   "display_name": "Python 3 (ipykernel)",
   "language": "python",
   "name": "python3"
  },
  "language_info": {
   "codemirror_mode": {
    "name": "ipython",
    "version": 3
   },
   "file_extension": ".py",
   "mimetype": "text/x-python",
   "name": "python",
   "nbconvert_exporter": "python",
   "pygments_lexer": "ipython3",
   "version": "3.11.5"
  }
 },
 "nbformat": 4,
 "nbformat_minor": 5
}
