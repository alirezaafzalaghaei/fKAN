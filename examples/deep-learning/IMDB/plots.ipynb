{
 "cells": [
  {
   "cell_type": "code",
   "execution_count": 1,
   "id": "6016544d-7ad5-4e43-a172-6b02125ef9c5",
   "metadata": {
    "execution": {
     "iopub.execute_input": "2024-06-11T21:04:35.568790Z",
     "iopub.status.busy": "2024-06-11T21:04:35.568580Z",
     "iopub.status.idle": "2024-06-11T21:04:35.961842Z",
     "shell.execute_reply": "2024-06-11T21:04:35.961294Z",
     "shell.execute_reply.started": "2024-06-11T21:04:35.568764Z"
    }
   },
   "outputs": [],
   "source": [
    "import glob\n",
    "import numpy as np\n",
    "import matplotlib.pyplot as plt\n",
    "import re\n",
    "import matplotlib.ticker as mtick\n",
    "import pandas as pd\n",
    "import scienceplots\n",
    "plt.style.use('science')"
   ]
  },
  {
   "cell_type": "code",
   "execution_count": 2,
   "id": "38cb1c49-e565-4c39-ad6f-0197750bb8b8",
   "metadata": {
    "execution": {
     "iopub.execute_input": "2024-06-11T21:04:35.962590Z",
     "iopub.status.busy": "2024-06-11T21:04:35.962336Z",
     "iopub.status.idle": "2024-06-11T21:04:35.986245Z",
     "shell.execute_reply": "2024-06-11T21:04:35.985817Z",
     "shell.execute_reply.started": "2024-06-11T21:04:35.962579Z"
    }
   },
   "outputs": [
    {
     "data": {
      "text/plain": [
       "((9, 5, 10, 10), (9, 5, 5))"
      ]
     },
     "execution_count": 2,
     "metadata": {},
     "output_type": "execute_result"
    }
   ],
   "source": [
    "activations = ['sigmoid', 'tanh', 'relu', 'JNB1', 'JNB2', 'JNB3', 'JNB4', 'JNB5', 'JNB6']\n",
    "\n",
    "DATA = []\n",
    "SCORES = []\n",
    "for activation in activations:\n",
    "    files = sorted(glob.glob('data/*%s*.txt' % activation))\n",
    "    data = []\n",
    "    score = []\n",
    "    for file in files:\n",
    "        history, score_ = list(map(lambda t: eval(str.strip(t)),open(file).readlines()))\n",
    "\n",
    "        historyold = history.copy()\n",
    "        history={}\n",
    "        for key in historyold.keys():\n",
    "\n",
    "            if key[-2] == '_':\n",
    "\n",
    "                history[key[:-2]] = historyold[key]\n",
    "            else:\n",
    "                history[key] = historyold[key]\n",
    "        \n",
    "        d = history['loss'],history['val_loss'],history['accuracy'],history['val_accuracy'], history['precision'],history['val_precision'],history['recall'],history['val_recall'], history['auc'],history['val_auc']\n",
    "        data.append(d)\n",
    "        score.append(score_)\n",
    "    DATA.append(data)\n",
    "    SCORES.append(score)\n",
    "DATA = np.array(DATA)\n",
    "SCORES=np.array(SCORES)\n",
    "DATA.shape, SCORES.shape"
   ]
  },
  {
   "cell_type": "code",
   "execution_count": 3,
   "id": "5f6d18b1-7cc5-458b-a97b-c993cd1df41c",
   "metadata": {
    "execution": {
     "iopub.execute_input": "2024-06-11T21:04:35.987218Z",
     "iopub.status.busy": "2024-06-11T21:04:35.987031Z",
     "iopub.status.idle": "2024-06-11T21:04:35.992912Z",
     "shell.execute_reply": "2024-06-11T21:04:35.992443Z",
     "shell.execute_reply.started": "2024-06-11T21:04:35.987201Z"
    }
   },
   "outputs": [
    {
     "data": {
      "text/plain": [
       "(9, 10, 10)"
      ]
     },
     "execution_count": 3,
     "metadata": {},
     "output_type": "execute_result"
    }
   ],
   "source": [
    "log = lambda x: x # np.log(x)/np.log(50)\n",
    "DATA[:,:,2:,:] = log(DATA[:,:,2:,:])\n",
    "mean = (DATA).mean(axis=1)\n",
    "\n",
    "var = (DATA).var(axis=1)\n",
    "\n",
    "mean.shape"
   ]
  },
  {
   "cell_type": "code",
   "execution_count": 4,
   "id": "61b07653-051e-4338-ad32-c82943254b61",
   "metadata": {
    "execution": {
     "iopub.execute_input": "2024-06-11T21:04:35.994058Z",
     "iopub.status.busy": "2024-06-11T21:04:35.993818Z",
     "iopub.status.idle": "2024-06-11T21:04:35.998529Z",
     "shell.execute_reply": "2024-06-11T21:04:35.997512Z",
     "shell.execute_reply.started": "2024-06-11T21:04:35.994038Z"
    }
   },
   "outputs": [],
   "source": [
    "mapping = {'JNB1':'JNB(1)', 'JNB2':'JNB(2)', 'JNB3':'JNB(3)', 'JNB4':'JNB(4)', \n",
    "           'JNB5':'JNB(5)', 'JNB6':'JNB(6)', \n",
    "           'RELU':'ReLU', 'SIGMOID':'Sigmoid','TANH':'Tanh'}\n",
    "\n",
    "\n",
    "names = []\n",
    "for i in range(0,len(activations)):\n",
    "    names.append(mapping[activations[i].upper()])"
   ]
  },
  {
   "cell_type": "code",
   "execution_count": 5,
   "id": "693b6b3d-cb48-4a58-bce1-7dd298c9776e",
   "metadata": {
    "execution": {
     "iopub.execute_input": "2024-06-11T21:04:36.000409Z",
     "iopub.status.busy": "2024-06-11T21:04:36.000044Z",
     "iopub.status.idle": "2024-06-11T21:04:36.005470Z",
     "shell.execute_reply": "2024-06-11T21:04:36.004730Z",
     "shell.execute_reply.started": "2024-06-11T21:04:36.000377Z"
    }
   },
   "outputs": [],
   "source": [
    "SCORES[:, :, 1:] *= 100\n",
    "mean = SCORES.mean(axis=1)\n",
    "std =  SCORES.std(axis=1)"
   ]
  },
  {
   "cell_type": "code",
   "execution_count": 6,
   "id": "ae3da9a4-49ad-48cf-8a5b-1ba0cd52b5e4",
   "metadata": {
    "execution": {
     "iopub.execute_input": "2024-06-11T21:04:36.007248Z",
     "iopub.status.busy": "2024-06-11T21:04:36.006820Z",
     "iopub.status.idle": "2024-06-11T21:04:36.033972Z",
     "shell.execute_reply": "2024-06-11T21:04:36.033483Z",
     "shell.execute_reply.started": "2024-06-11T21:04:36.007209Z"
    }
   },
   "outputs": [
    {
     "data": {
      "text/html": [
       "<div>\n",
       "<style scoped>\n",
       "    .dataframe tbody tr th:only-of-type {\n",
       "        vertical-align: middle;\n",
       "    }\n",
       "\n",
       "    .dataframe tbody tr th {\n",
       "        vertical-align: top;\n",
       "    }\n",
       "\n",
       "    .dataframe thead th {\n",
       "        text-align: right;\n",
       "    }\n",
       "</style>\n",
       "<table border=\"1\" class=\"dataframe\">\n",
       "  <thead>\n",
       "    <tr style=\"text-align: right;\">\n",
       "      <th></th>\n",
       "      <th>Loss</th>\n",
       "      <th>Accuracy</th>\n",
       "      <th>PR</th>\n",
       "      <th>RC</th>\n",
       "      <th>AUC</th>\n",
       "    </tr>\n",
       "  </thead>\n",
       "  <tbody>\n",
       "    <tr>\n",
       "      <th>Sigmoid</th>\n",
       "      <td>$0.604 \\pm 0.039$</td>\n",
       "      <td>$85.198 \\pm 0.468$</td>\n",
       "      <td>$81.440 \\pm 1.511$</td>\n",
       "      <td>$91.266 \\pm 1.532$</td>\n",
       "      <td>$91.631 \\pm 0.422$</td>\n",
       "    </tr>\n",
       "    <tr>\n",
       "      <th>Tanh</th>\n",
       "      <td>$0.610 \\pm 0.060$</td>\n",
       "      <td>$85.604 \\pm 0.818$</td>\n",
       "      <td>$82.364 \\pm 2.790$</td>\n",
       "      <td>$90.912 \\pm 2.705$</td>\n",
       "      <td>$91.894 \\pm 0.505$</td>\n",
       "    </tr>\n",
       "    <tr>\n",
       "      <th>ReLU</th>\n",
       "      <td>$0.808 \\pm 0.064$</td>\n",
       "      <td>$83.826 \\pm 1.141$</td>\n",
       "      <td>$78.197 \\pm 2.124$</td>\n",
       "      <td>$93.995 \\pm 1.358$</td>\n",
       "      <td>$91.080 \\pm 0.404$</td>\n",
       "    </tr>\n",
       "    <tr>\n",
       "      <th>JNB(1)</th>\n",
       "      <td>$0.724 \\pm 0.074$</td>\n",
       "      <td>$84.462 \\pm 1.156$</td>\n",
       "      <td>$79.967 \\pm 3.160$</td>\n",
       "      <td>$92.387 \\pm 3.090$</td>\n",
       "      <td>$91.241 \\pm 0.501$</td>\n",
       "    </tr>\n",
       "    <tr>\n",
       "      <th>JNB(2)</th>\n",
       "      <td>$0.671 \\pm 0.044$</td>\n",
       "      <td>$85.205 \\pm 0.591$</td>\n",
       "      <td>$80.559 \\pm 1.374$</td>\n",
       "      <td>$92.882 \\pm 1.126$</td>\n",
       "      <td>$91.306 \\pm 0.478$</td>\n",
       "    </tr>\n",
       "    <tr>\n",
       "      <th>JNB(3)</th>\n",
       "      <td>$0.646 \\pm 0.057$</td>\n",
       "      <td>$84.828 \\pm 0.761$</td>\n",
       "      <td>$80.100 \\pm 1.787$</td>\n",
       "      <td>$92.808 \\pm 1.404$</td>\n",
       "      <td>$91.576 \\pm 0.416$</td>\n",
       "    </tr>\n",
       "    <tr>\n",
       "      <th>JNB(4)</th>\n",
       "      <td>$0.559 \\pm 0.062$</td>\n",
       "      <td>$85.645 \\pm 0.762$</td>\n",
       "      <td>$83.395 \\pm 3.549$</td>\n",
       "      <td>$89.498 \\pm 3.916$</td>\n",
       "      <td>$92.497 \\pm 0.404$</td>\n",
       "    </tr>\n",
       "    <tr>\n",
       "      <th>JNB(5)</th>\n",
       "      <td>$0.691 \\pm 0.100$</td>\n",
       "      <td>$84.247 \\pm 1.479$</td>\n",
       "      <td>$79.283 \\pm 3.401$</td>\n",
       "      <td>$93.190 \\pm 2.584$</td>\n",
       "      <td>$91.454 \\pm 0.825$</td>\n",
       "    </tr>\n",
       "    <tr>\n",
       "      <th>JNB(6)</th>\n",
       "      <td>$0.627 \\pm 0.107$</td>\n",
       "      <td>$84.455 \\pm 1.658$</td>\n",
       "      <td>$80.079 \\pm 4.017$</td>\n",
       "      <td>$92.371 \\pm 3.215$</td>\n",
       "      <td>$91.648 \\pm 0.985$</td>\n",
       "    </tr>\n",
       "  </tbody>\n",
       "</table>\n",
       "</div>"
      ],
      "text/plain": [
       "                      Loss            Accuracy                  PR  \\\n",
       "Sigmoid  $0.604 \\pm 0.039$  $85.198 \\pm 0.468$  $81.440 \\pm 1.511$   \n",
       "Tanh     $0.610 \\pm 0.060$  $85.604 \\pm 0.818$  $82.364 \\pm 2.790$   \n",
       "ReLU     $0.808 \\pm 0.064$  $83.826 \\pm 1.141$  $78.197 \\pm 2.124$   \n",
       "JNB(1)   $0.724 \\pm 0.074$  $84.462 \\pm 1.156$  $79.967 \\pm 3.160$   \n",
       "JNB(2)   $0.671 \\pm 0.044$  $85.205 \\pm 0.591$  $80.559 \\pm 1.374$   \n",
       "JNB(3)   $0.646 \\pm 0.057$  $84.828 \\pm 0.761$  $80.100 \\pm 1.787$   \n",
       "JNB(4)   $0.559 \\pm 0.062$  $85.645 \\pm 0.762$  $83.395 \\pm 3.549$   \n",
       "JNB(5)   $0.691 \\pm 0.100$  $84.247 \\pm 1.479$  $79.283 \\pm 3.401$   \n",
       "JNB(6)   $0.627 \\pm 0.107$  $84.455 \\pm 1.658$  $80.079 \\pm 4.017$   \n",
       "\n",
       "                         RC                 AUC  \n",
       "Sigmoid  $91.266 \\pm 1.532$  $91.631 \\pm 0.422$  \n",
       "Tanh     $90.912 \\pm 2.705$  $91.894 \\pm 0.505$  \n",
       "ReLU     $93.995 \\pm 1.358$  $91.080 \\pm 0.404$  \n",
       "JNB(1)   $92.387 \\pm 3.090$  $91.241 \\pm 0.501$  \n",
       "JNB(2)   $92.882 \\pm 1.126$  $91.306 \\pm 0.478$  \n",
       "JNB(3)   $92.808 \\pm 1.404$  $91.576 \\pm 0.416$  \n",
       "JNB(4)   $89.498 \\pm 3.916$  $92.497 \\pm 0.404$  \n",
       "JNB(5)   $93.190 \\pm 2.584$  $91.454 \\pm 0.825$  \n",
       "JNB(6)   $92.371 \\pm 3.215$  $91.648 \\pm 0.985$  "
      ]
     },
     "execution_count": 6,
     "metadata": {},
     "output_type": "execute_result"
    }
   ],
   "source": [
    "columns = ['Loss', 'Accuracy','PR','RC','AUC']\n",
    "df = pd.DataFrame(index=names, columns=columns)\n",
    "\n",
    "# Populate DataFrame with mean +- std\n",
    "for i in range(mean.shape[0]):\n",
    "    for j in range(mean.shape[1]):\n",
    "        df.at[names[i], columns[j]] = f\"${mean[i, j]:.3f} \\pm {std[i, j]:.3f}$\"\n",
    "\n",
    "df"
   ]
  },
  {
   "cell_type": "code",
   "execution_count": 7,
   "id": "c27a3ea4-55b5-4501-b77b-6b376dfd9868",
   "metadata": {
    "execution": {
     "iopub.execute_input": "2024-06-11T21:04:36.036731Z",
     "iopub.status.busy": "2024-06-11T21:04:36.036518Z",
     "iopub.status.idle": "2024-06-11T21:04:36.052726Z",
     "shell.execute_reply": "2024-06-11T21:04:36.051496Z",
     "shell.execute_reply.started": "2024-06-11T21:04:36.036715Z"
    }
   },
   "outputs": [
    {
     "data": {
      "text/html": [
       "<div>\n",
       "<style scoped>\n",
       "    .dataframe tbody tr th:only-of-type {\n",
       "        vertical-align: middle;\n",
       "    }\n",
       "\n",
       "    .dataframe tbody tr th {\n",
       "        vertical-align: top;\n",
       "    }\n",
       "\n",
       "    .dataframe thead th {\n",
       "        text-align: right;\n",
       "    }\n",
       "</style>\n",
       "<table border=\"1\" class=\"dataframe\">\n",
       "  <thead>\n",
       "    <tr style=\"text-align: right;\">\n",
       "      <th></th>\n",
       "      <th>Loss mean</th>\n",
       "      <th>Loss std</th>\n",
       "      <th>Accuracy mean</th>\n",
       "      <th>Accuracy std</th>\n",
       "    </tr>\n",
       "  </thead>\n",
       "  <tbody>\n",
       "    <tr>\n",
       "      <th>Sigmoid</th>\n",
       "      <td>0.6036</td>\n",
       "      <td>0.0394</td>\n",
       "      <td>85.1976</td>\n",
       "      <td>0.4682</td>\n",
       "    </tr>\n",
       "    <tr>\n",
       "      <th>Tanh</th>\n",
       "      <td>0.6098</td>\n",
       "      <td>0.0596</td>\n",
       "      <td>85.6040</td>\n",
       "      <td>0.8180</td>\n",
       "    </tr>\n",
       "    <tr>\n",
       "      <th>ReLU</th>\n",
       "      <td>0.8077</td>\n",
       "      <td>0.0640</td>\n",
       "      <td>83.8264</td>\n",
       "      <td>1.1412</td>\n",
       "    </tr>\n",
       "    <tr>\n",
       "      <th>JNB(1)</th>\n",
       "      <td>0.7241</td>\n",
       "      <td>0.0735</td>\n",
       "      <td>84.4624</td>\n",
       "      <td>1.1555</td>\n",
       "    </tr>\n",
       "    <tr>\n",
       "      <th>JNB(2)</th>\n",
       "      <td>0.6711</td>\n",
       "      <td>0.0441</td>\n",
       "      <td>85.2048</td>\n",
       "      <td>0.5910</td>\n",
       "    </tr>\n",
       "    <tr>\n",
       "      <th>JNB(3)</th>\n",
       "      <td>0.6462</td>\n",
       "      <td>0.0573</td>\n",
       "      <td>84.8280</td>\n",
       "      <td>0.7613</td>\n",
       "    </tr>\n",
       "    <tr>\n",
       "      <th>JNB(4)</th>\n",
       "      <td>0.5591</td>\n",
       "      <td>0.0623</td>\n",
       "      <td>85.6448</td>\n",
       "      <td>0.7619</td>\n",
       "    </tr>\n",
       "    <tr>\n",
       "      <th>JNB(5)</th>\n",
       "      <td>0.6912</td>\n",
       "      <td>0.0995</td>\n",
       "      <td>84.2472</td>\n",
       "      <td>1.4793</td>\n",
       "    </tr>\n",
       "    <tr>\n",
       "      <th>JNB(6)</th>\n",
       "      <td>0.6268</td>\n",
       "      <td>0.1070</td>\n",
       "      <td>84.4552</td>\n",
       "      <td>1.6579</td>\n",
       "    </tr>\n",
       "  </tbody>\n",
       "</table>\n",
       "</div>"
      ],
      "text/plain": [
       "         Loss mean  Loss std  Accuracy mean  Accuracy std\n",
       "Sigmoid     0.6036    0.0394        85.1976        0.4682\n",
       "Tanh        0.6098    0.0596        85.6040        0.8180\n",
       "ReLU        0.8077    0.0640        83.8264        1.1412\n",
       "JNB(1)      0.7241    0.0735        84.4624        1.1555\n",
       "JNB(2)      0.6711    0.0441        85.2048        0.5910\n",
       "JNB(3)      0.6462    0.0573        84.8280        0.7613\n",
       "JNB(4)      0.5591    0.0623        85.6448        0.7619\n",
       "JNB(5)      0.6912    0.0995        84.2472        1.4793\n",
       "JNB(6)      0.6268    0.1070        84.4552        1.6579"
      ]
     },
     "execution_count": 7,
     "metadata": {},
     "output_type": "execute_result"
    }
   ],
   "source": [
    "df = pd.DataFrame({\n",
    "    'Loss mean': mean[:, 0],\n",
    "    'Loss std': std[:, 0],\n",
    "    'Accuracy mean': mean[:, 1],\n",
    "    'Accuracy std': std[:, 1],\n",
    "}, index = names)\n",
    "df.round(4)"
   ]
  },
  {
   "cell_type": "code",
   "execution_count": null,
   "id": "adfecfb6-a467-4b82-a54d-58be12f547d4",
   "metadata": {},
   "outputs": [],
   "source": []
  }
 ],
 "metadata": {
  "kernelspec": {
   "display_name": "Python 3 (ipykernel)",
   "language": "python",
   "name": "python3"
  },
  "language_info": {
   "codemirror_mode": {
    "name": "ipython",
    "version": 3
   },
   "file_extension": ".py",
   "mimetype": "text/x-python",
   "name": "python",
   "nbconvert_exporter": "python",
   "pygments_lexer": "ipython3",
   "version": "3.11.5"
  }
 },
 "nbformat": 4,
 "nbformat_minor": 5
}
