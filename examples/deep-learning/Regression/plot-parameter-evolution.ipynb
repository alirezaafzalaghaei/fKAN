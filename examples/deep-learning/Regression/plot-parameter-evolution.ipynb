{
 "cells": [
  {
   "cell_type": "code",
   "execution_count": 1,
   "metadata": {
    "execution": {
     "iopub.execute_input": "2024-06-11T21:44:53.834390Z",
     "iopub.status.busy": "2024-06-11T21:44:53.834114Z",
     "iopub.status.idle": "2024-06-11T21:44:56.446052Z",
     "shell.execute_reply": "2024-06-11T21:44:56.445347Z",
     "shell.execute_reply.started": "2024-06-11T21:44:53.834365Z"
    },
    "id": "kp42AXhj9E2e"
   },
   "outputs": [],
   "source": [
    "import os\n",
    "\n",
    "os.environ[\"TF_CPP_MIN_LOG_LEVEL\"] = \"3\"\n",
    "\n",
    "import glob\n",
    "import os\n",
    "\n",
    "import matplotlib.pyplot as plt\n",
    "import numpy as np\n",
    "import scienceplots\n",
    "import scipy.stats as stats\n",
    "import tensorflow as tf\n",
    "from fkan.tensorflow import FractionalJacobiNeuralBlock as fJNB\n",
    "from sklearn.model_selection import train_test_split\n",
    "from tensorflow.keras import Sequential, optimizers\n",
    "from tensorflow.keras.callbacks import EarlyStopping\n",
    "from tensorflow.keras.layers import *\n",
    "\n",
    "plt.style.use(\"science\")"
   ]
  },
  {
   "cell_type": "code",
   "execution_count": 2,
   "metadata": {
    "execution": {
     "iopub.execute_input": "2024-06-11T21:44:56.446960Z",
     "iopub.status.busy": "2024-06-11T21:44:56.446670Z",
     "iopub.status.idle": "2024-06-11T21:44:56.452262Z",
     "shell.execute_reply": "2024-06-11T21:44:56.451598Z",
     "shell.execute_reply.started": "2024-06-11T21:44:56.446943Z"
    },
    "id": "v4bzXS759yCN"
   },
   "outputs": [],
   "source": [
    "class SaveWeightsCallback(tf.keras.callbacks.Callback):\n",
    "    def __init__(self, filename):\n",
    "        super(SaveWeightsCallback, self).__init__()\n",
    "        self.filename = filename\n",
    "\n",
    "    def on_epoch_end(self, epoch, logs=None):\n",
    "        weights = tuple(\n",
    "            np.array(\n",
    "                self.get_layer_by_keyword(\n",
    "                    \"fractional_jacobi_neural_block\"\n",
    "                ).get_weights()\n",
    "            ).flatten()\n",
    "        )\n",
    "        with open(self.filename, \"a\") as file:\n",
    "            file.write(\"%f,%f,%f\\n\" % weights)\n",
    "\n",
    "    def get_layer_by_keyword(self, keyword):\n",
    "        for layer in self.model.layers:\n",
    "            if keyword in layer.name:\n",
    "                return layer\n",
    "        return None"
   ]
  },
  {
   "cell_type": "code",
   "execution_count": 3,
   "metadata": {
    "colab": {
     "base_uri": "https://localhost:8080/",
     "height": 467
    },
    "execution": {
     "iopub.execute_input": "2024-06-11T21:44:56.453093Z",
     "iopub.status.busy": "2024-06-11T21:44:56.452932Z",
     "iopub.status.idle": "2024-06-11T21:44:56.848432Z",
     "shell.execute_reply": "2024-06-11T21:44:56.847844Z",
     "shell.execute_reply.started": "2024-06-11T21:44:56.453078Z"
    },
    "id": "PEGPA_5G9y0x",
    "outputId": "d74401a3-a8ff-46a1-e286-0c531faceb20"
   },
   "outputs": [
    {
     "name": "stdout",
     "output_type": "stream",
     "text": [
      "data shape: (250, 1) (250,)\n"
     ]
    },
    {
     "data": {
      "text/plain": [
       "[<matplotlib.lines.Line2D at 0x7af954ee9690>]"
      ]
     },
     "execution_count": 3,
     "metadata": {},
     "output_type": "execute_result"
    },
    {
     "data": {
      "image/png": "[encoded data removed]",
      "text/plain": [
       "<Figure size 350x262.5 with 1 Axes>"
      ]
     },
     "metadata": {},
     "output_type": "display_data"
    }
   ],
   "source": [
    "def f(x):\n",
    "    return np.sin(x * np.pi) + 10 * np.exp(x / 5) + np.random.randn(len(x)) * 0.01\n",
    "\n",
    "\n",
    "a, b = -2, 1\n",
    "\n",
    "t = np.linspace(a, b, 250)\n",
    "y = f(t)\n",
    "\n",
    "X = t.reshape(-1, 1)\n",
    "\n",
    "X_train, X_test, y_train, y_test = train_test_split(\n",
    "    X, y, test_size=0.33, random_state=0\n",
    ")\n",
    "\n",
    "print(\"data shape:\", X.shape, y.shape)\n",
    "plt.plot(t, y)"
   ]
  },
  {
   "cell_type": "markdown",
   "metadata": {},
   "source": [
    "If using a predefined Keras activation function, replace each `fJNB(q)` with: `layers.Activation(activation)`"
   ]
  },
  {
   "cell_type": "code",
   "execution_count": 4,
   "metadata": {
    "colab": {
     "base_uri": "https://localhost:8080/"
    },
    "execution": {
     "iopub.execute_input": "2024-06-11T21:44:56.849345Z",
     "iopub.status.busy": "2024-06-11T21:44:56.849164Z",
     "iopub.status.idle": "2024-06-11T21:45:14.969893Z",
     "shell.execute_reply": "2024-06-11T21:45:14.969079Z",
     "shell.execute_reply.started": "2024-06-11T21:44:56.849328Z"
    },
    "id": "Fk0oYFW_94-S",
    "outputId": "bbd1ab8b-26c7-4e0a-a332-5dfd91bfb468"
   },
   "outputs": [
    {
     "name": "stdout",
     "output_type": "stream",
     "text": [
      "0 0.21654092\n"
     ]
    }
   ],
   "source": [
    "MAE = []\n",
    "for trial in range(1):\n",
    "    tf.random.set_seed(trial)\n",
    "    np.random.seed(trial)\n",
    "\n",
    "    model = Sequential()\n",
    "    model.add(InputLayer(input_shape=(X_train.shape[1],)))\n",
    "    model.add(Dense(5))\n",
    "    model.add(fJNB(5))\n",
    "    model.add(Dense(1))\n",
    "\n",
    "    opt = optimizers.Adam(learning_rate=0.01)\n",
    "    loss = tf.keras.losses.MeanSquaredError(name=\"loss\")\n",
    "\n",
    "    model.compile(optimizer=opt, loss=loss, metrics=[\"mae\"])\n",
    "\n",
    "    save_weights_callback = SaveWeightsCallback(\"data/weights/weights-%d.txt\" % trial)\n",
    "\n",
    "    params = dict(\n",
    "        epochs=500,\n",
    "        batch_size=1000,\n",
    "        verbose=0,\n",
    "        validation_split=0.2,\n",
    "        callbacks=[save_weights_callback],\n",
    "    )\n",
    "\n",
    "    history = model.fit(X_train, y_train, **params)\n",
    "\n",
    "    p = model.predict(X_test, verbose=0).flatten()\n",
    "    mae_test = tf.keras.losses.mean_absolute_error(y_test, p).numpy()\n",
    "    print(trial, mae_test)\n",
    "    MAE.append(mae_test)\n",
    "\n",
    "MAE = np.array(MAE)\n",
    "np.savetxt(\"data/weights/MAE.txt\", MAE)"
   ]
  },
  {
   "cell_type": "code",
   "execution_count": 5,
   "metadata": {
    "colab": {
     "base_uri": "https://localhost:8080/"
    },
    "execution": {
     "iopub.execute_input": "2024-06-11T21:45:14.970995Z",
     "iopub.status.busy": "2024-06-11T21:45:14.970776Z",
     "iopub.status.idle": "2024-06-11T21:45:14.983685Z",
     "shell.execute_reply": "2024-06-11T21:45:14.982862Z",
     "shell.execute_reply.started": "2024-06-11T21:45:14.970975Z"
    },
    "id": "i5zcCVnI_X2H",
    "outputId": "28e042c2-d495-4a26-c21b-b6ba08d625c8"
   },
   "outputs": [
    {
     "data": {
      "text/plain": [
       "(11, 500, 3)"
      ]
     },
     "execution_count": 5,
     "metadata": {},
     "output_type": "execute_result"
    }
   ],
   "source": [
    "MAE = np.loadtxt(\"data/weights/MAE.txt\")\n",
    "files = sorted(glob.glob(\"data/weights/weights-*.txt\"))\n",
    "weights = []\n",
    "for file in files:\n",
    "    trial = int(file[len(\"data/weights/\") + 8 : -4])\n",
    "    if MAE[trial] < 0.10:\n",
    "        weights.append(np.loadtxt(file, delimiter=\",\"))\n",
    "\n",
    "weights = np.array(weights)\n",
    "weights.shape"
   ]
  },
  {
   "cell_type": "code",
   "execution_count": 6,
   "metadata": {
    "execution": {
     "iopub.execute_input": "2024-06-11T21:45:14.984773Z",
     "iopub.status.busy": "2024-06-11T21:45:14.984535Z",
     "iopub.status.idle": "2024-06-11T21:45:14.989200Z",
     "shell.execute_reply": "2024-06-11T21:45:14.988518Z",
     "shell.execute_reply.started": "2024-06-11T21:45:14.984751Z"
    },
    "id": "WiDa8RwSF3A1"
   },
   "outputs": [],
   "source": [
    "mean = weights.mean(axis=0)\n",
    "var = weights.var(axis=0)"
   ]
  },
  {
   "cell_type": "code",
   "execution_count": 7,
   "metadata": {
    "colab": {
     "base_uri": "https://localhost:8080/",
     "height": 430
    },
    "execution": {
     "iopub.execute_input": "2024-06-11T21:45:14.994055Z",
     "iopub.status.busy": "2024-06-11T21:45:14.993444Z",
     "iopub.status.idle": "2024-06-11T21:45:15.677728Z",
     "shell.execute_reply": "2024-06-11T21:45:15.676649Z",
     "shell.execute_reply.started": "2024-06-11T21:45:14.994019Z"
    },
    "id": "OS5ieSxnAhAq",
    "outputId": "2525bdcc-3db7-4ff2-f2f7-ab9fcc937602"
   },
   "outputs": [
    {
     "data": {
      "image/png": "[encoded data removed]",
      "text/plain": [
       "<Figure size 600x400 with 1 Axes>"
      ]
     },
     "metadata": {},
     "output_type": "display_data"
    }
   ],
   "source": [
    "x = list(range(1, 1 + len(mean)))\n",
    "labels = [r\"$\\alpha$\", r\"$\\beta$\", r\"$\\gamma$\"]\n",
    "fig, ax = plt.subplots(1, 1, figsize=(6, 4))\n",
    "\n",
    "for i in range(3):\n",
    "    ax.plot(x, mean[:, i], label=labels[i])\n",
    "    ax.fill_between(x, mean[:, i] - var[:, i], mean[:, i] + var[:, i], alpha=0.2)\n",
    "ax.legend()\n",
    "ax.set_xlabel(\"Iteration\")\n",
    "ax.set_ylabel(\"Value\")\n",
    "fig.savefig(\"values-alpha-beta-gamma.png\", bbox_inches=\"tight\")"
   ]
  },
  {
   "cell_type": "code",
   "execution_count": null,
   "metadata": {
    "id": "g7Um1GU1KQ_c"
   },
   "outputs": [],
   "source": []
  }
 ],
 "metadata": {
  "colab": {
   "provenance": []
  },
  "kernelspec": {
   "display_name": "Python 3 (ipykernel)",
   "language": "python",
   "name": "python3"
  },
  "language_info": {
   "codemirror_mode": {
    "name": "ipython",
    "version": 3
   },
   "file_extension": ".py",
   "mimetype": "text/x-python",
   "name": "python",
   "nbconvert_exporter": "python",
   "pygments_lexer": "ipython3",
   "version": "3.11.5"
  }
 },
 "nbformat": 4,
 "nbformat_minor": 4
}
