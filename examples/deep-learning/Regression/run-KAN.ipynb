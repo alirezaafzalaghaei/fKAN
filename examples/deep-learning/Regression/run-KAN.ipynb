{
 "cells": [
  {
   "cell_type": "code",
   "execution_count": 1,
   "id": "73bae354-e115-4ac4-b049-1aa51db7b5ba",
   "metadata": {
    "execution": {
     "iopub.execute_input": "2024-06-09T23:58:44.108413Z",
     "iopub.status.busy": "2024-06-09T23:58:44.107802Z",
     "iopub.status.idle": "2024-06-09T23:58:46.211494Z",
     "shell.execute_reply": "2024-06-09T23:58:46.210944Z",
     "shell.execute_reply.started": "2024-06-09T23:58:44.108355Z"
    }
   },
   "outputs": [],
   "source": [
    "import re\n",
    "\n",
    "import numpy as np\n",
    "from kan import *"
   ]
  },
  {
   "cell_type": "code",
   "execution_count": 2,
   "id": "c8fa1ddf-232e-41d3-ae2b-db4422933b2f",
   "metadata": {
    "execution": {
     "iopub.execute_input": "2024-06-09T23:58:46.212432Z",
     "iopub.status.busy": "2024-06-09T23:58:46.212175Z",
     "iopub.status.idle": "2024-06-09T23:58:46.215261Z",
     "shell.execute_reply": "2024-06-09T23:58:46.214818Z",
     "shell.execute_reply.started": "2024-06-09T23:58:46.212415Z"
    }
   },
   "outputs": [],
   "source": [
    "for _ in range(7):\n",
    "    for i in range(1, 11):\n",
    "        f = (\n",
    "            lambda x: torch.sin(x[:, [0]] * np.pi)\n",
    "            + 10 * torch.exp(x[:, [0]] / 5)\n",
    "            + np.random.normal(len(x[:, [0]])) * 0.01\n",
    "        )\n",
    "        dataset = create_dataset(f, n_var=1, train_num=33, ranges=[-2, 1], test_num=17)\n",
    "        model = KAN(width=[1, i, 1], grid=5, k=3)\n",
    "        model.train(dataset, opt=\"LBFGS\", steps=20)"
   ]
  },
  {
   "cell_type": "code",
   "execution_count": 3,
   "id": "96237610-3b95-4fed-94db-cdcef144002e",
   "metadata": {
    "execution": {
     "iopub.execute_input": "2024-06-09T23:58:48.572751Z",
     "iopub.status.busy": "2024-06-09T23:58:48.572336Z",
     "iopub.status.idle": "2024-06-10T00:07:51.681518Z",
     "shell.execute_reply": "2024-06-10T00:07:51.681039Z",
     "shell.execute_reply.started": "2024-06-09T23:58:48.572720Z"
    }
   },
   "outputs": [
    {
     "name": "stderr",
     "output_type": "stream",
     "text": [
      "train loss: 6.08e-04 | test loss: 1.73e-01 | reg: 1.35e+01 : 100%|██| 20/20 [00:03<00:00,  5.86it/s]\n",
      "train loss: 6.48e-04 | test loss: 1.72e-01 | reg: 4.61e+01 : 100%|██| 20/20 [00:10<00:00,  1.85it/s]\n",
      "train loss: 6.16e-04 | test loss: 1.72e-01 | reg: 9.19e+01 : 100%|██| 20/20 [00:18<00:00,  1.05it/s]\n",
      "train loss: 1.50e-03 | test loss: 1.77e-01 | reg: 1.40e+02 : 100%|██| 20/20 [00:25<00:00,  1.29s/it]\n",
      "train loss: 1.52e-03 | test loss: 2.14e-01 | reg: 1.50e+02 : 100%|██| 20/20 [00:33<00:00,  1.66s/it]\n",
      "train loss: 1.16e-03 | test loss: 1.73e-01 | reg: 1.35e+01 : 100%|██| 20/20 [00:03<00:00,  6.56it/s]\n",
      "train loss: 4.92e-04 | test loss: 1.72e-01 | reg: 4.61e+01 : 100%|██| 20/20 [00:10<00:00,  1.93it/s]\n",
      "train loss: 6.17e-04 | test loss: 1.72e-01 | reg: 9.22e+01 : 100%|██| 20/20 [00:17<00:00,  1.12it/s]\n",
      "train loss: 1.63e-03 | test loss: 1.76e-01 | reg: 1.37e+02 : 100%|██| 20/20 [00:25<00:00,  1.28s/it]\n",
      "train loss: 1.96e-03 | test loss: 2.19e-01 | reg: 1.49e+02 : 100%|██| 20/20 [00:33<00:00,  1.65s/it]\n",
      "train loss: 6.97e-04 | test loss: 1.73e-01 | reg: 1.35e+01 : 100%|██| 20/20 [00:03<00:00,  6.64it/s]\n",
      "train loss: 4.12e-04 | test loss: 1.72e-01 | reg: 4.62e+01 : 100%|██| 20/20 [00:10<00:00,  1.97it/s]\n",
      "train loss: 7.64e-04 | test loss: 1.72e-01 | reg: 9.20e+01 : 100%|██| 20/20 [00:18<00:00,  1.10it/s]\n",
      "train loss: 1.90e-03 | test loss: 1.75e-01 | reg: 1.31e+02 : 100%|██| 20/20 [00:25<00:00,  1.29s/it]\n",
      "train loss: 1.48e-03 | test loss: 2.97e-01 | reg: 1.49e+02 : 100%|██| 20/20 [00:33<00:00,  1.69s/it]\n",
      "train loss: 8.69e-04 | test loss: 1.73e-01 | reg: 1.34e+01 : 100%|██| 20/20 [00:03<00:00,  6.46it/s]\n",
      "train loss: 3.86e-04 | test loss: 1.72e-01 | reg: 4.61e+01 : 100%|██| 20/20 [00:10<00:00,  1.96it/s]\n",
      "train loss: 7.53e-04 | test loss: 1.72e-01 | reg: 9.19e+01 : 100%|██| 20/20 [00:17<00:00,  1.13it/s]\n",
      "train loss: 1.69e-03 | test loss: 1.70e-01 | reg: 1.31e+02 : 100%|██| 20/20 [00:26<00:00,  1.32s/it]\n",
      "train loss: 4.56e-03 | test loss: 8.27e-01 | reg: 1.56e+02 : 100%|██| 20/20 [00:33<00:00,  1.66s/it]\n",
      "train loss: 8.44e-04 | test loss: 1.74e-01 | reg: 1.34e+01 : 100%|██| 20/20 [00:03<00:00,  6.50it/s]\n",
      "train loss: 4.20e-04 | test loss: 1.73e-01 | reg: 4.61e+01 : 100%|██| 20/20 [00:10<00:00,  1.97it/s]\n",
      "train loss: 7.11e-04 | test loss: 1.72e-01 | reg: 9.21e+01 : 100%|██| 20/20 [00:17<00:00,  1.14it/s]\n",
      "train loss: 1.67e-03 | test loss: 1.71e-01 | reg: 1.31e+02 : 100%|██| 20/20 [00:26<00:00,  1.30s/it]\n",
      "train loss: 2.19e-03 | test loss: 1.89e-01 | reg: 1.50e+02 : 100%|██| 20/20 [00:33<00:00,  1.66s/it]\n",
      "train loss: 9.07e-04 | test loss: 1.73e-01 | reg: 1.34e+01 : 100%|██| 20/20 [00:03<00:00,  6.56it/s]\n",
      "train loss: 2.88e-04 | test loss: 1.73e-01 | reg: 4.61e+01 : 100%|██| 20/20 [00:09<00:00,  2.00it/s]\n",
      "train loss: 7.43e-04 | test loss: 1.72e-01 | reg: 9.18e+01 : 100%|██| 20/20 [00:16<00:00,  1.20it/s]\n",
      "train loss: 1.40e-03 | test loss: 1.66e-01 | reg: 1.31e+02 : 100%|██| 20/20 [00:25<00:00,  1.27s/it]\n",
      "train loss: 1.84e-03 | test loss: 2.47e-01 | reg: 1.49e+02 : 100%|██| 20/20 [00:33<00:00,  1.69s/it]\n"
     ]
    }
   ],
   "source": [
    "for _ in range(7):\n",
    "    for i in range(1, 10, 2):\n",
    "        f = (\n",
    "            lambda x: torch.sin(x[:, [0]] * np.pi)\n",
    "            + 10 * torch.exp(x[:, [0]] / 5)\n",
    "            + np.random.normal(len(x[:, [0]])) * 0.01\n",
    "        )\n",
    "        dataset = create_dataset(f, n_var=1, train_num=33, ranges=[-2, 1], test_num=17)\n",
    "        layers = i * [5]\n",
    "        model = KAN(width=[1, *layers, 1], grid=5, k=3)\n",
    "        model.train(dataset, opt=\"LBFGS\", steps=20)"
   ]
  },
  {
   "cell_type": "code",
   "execution_count": 4,
   "id": "ab47a89d-61ba-4291-92b9-5efee1fb9073",
   "metadata": {
    "execution": {
     "iopub.execute_input": "2024-06-10T00:09:34.078036Z",
     "iopub.status.busy": "2024-06-10T00:09:34.077682Z",
     "iopub.status.idle": "2024-06-10T00:09:34.088876Z",
     "shell.execute_reply": "2024-06-10T00:09:34.087278Z",
     "shell.execute_reply.started": "2024-06-10T00:09:34.078011Z"
    }
   },
   "outputs": [
    {
     "name": "stdout",
     "output_type": "stream",
     "text": [
      "ACC: 6.08e-04 1.73e-01\n",
      "ACC: 6.48e-04 1.72e-01\n",
      "ACC: 6.16e-04 1.72e-01\n",
      "ACC: 1.50e-03 1.77e-01\n",
      "ACC: 1.52e-03 2.14e-01\n",
      "ACC: 1.16e-03 1.73e-01\n",
      "ACC: 4.92e-04 1.72e-01\n",
      "ACC: 6.17e-04 1.72e-01\n",
      "ACC: 1.63e-03 1.76e-01\n",
      "ACC: 1.96e-03 2.19e-01\n",
      "ACC: 6.97e-04 1.73e-01\n",
      "ACC: 4.12e-04 1.72e-01\n",
      "ACC: 7.64e-04 1.72e-01\n",
      "ACC: 1.90e-03 1.75e-01\n",
      "ACC: 1.48e-03 2.97e-01\n",
      "ACC: 8.69e-04 1.73e-01\n",
      "ACC: 3.86e-04 1.72e-01\n",
      "ACC: 7.53e-04 1.72e-01\n",
      "ACC: 1.69e-03 1.70e-01\n",
      "ACC: 4.56e-03 8.27e-01\n",
      "ACC: 8.44e-04 1.74e-01\n",
      "ACC: 4.20e-04 1.73e-01\n",
      "ACC: 7.11e-04 1.72e-01\n",
      "ACC: 1.67e-03 1.71e-01\n",
      "ACC: 2.19e-03 1.89e-01\n",
      "ACC: 9.07e-04 1.73e-01\n",
      "ACC: 2.88e-04 1.73e-01\n",
      "ACC: 7.43e-04 1.72e-01\n",
      "ACC: 1.40e-03 1.66e-01\n",
      "ACC: 1.84e-03 2.47e-01\n"
     ]
    }
   ],
   "source": [
    "str = \"\"\"\n",
    "train loss: 6.08e-04 | test loss: 1.73e-01 | reg: 1.35e+01 : 100%|██| 20/20 [00:03<00:00,  5.86it/s]\n",
    "train loss: 6.48e-04 | test loss: 1.72e-01 | reg: 4.61e+01 : 100%|██| 20/20 [00:10<00:00,  1.85it/s]\n",
    "train loss: 6.16e-04 | test loss: 1.72e-01 | reg: 9.19e+01 : 100%|██| 20/20 [00:18<00:00,  1.05it/s]\n",
    "train loss: 1.50e-03 | test loss: 1.77e-01 | reg: 1.40e+02 : 100%|██| 20/20 [00:25<00:00,  1.29s/it]\n",
    "\"\"\"  # output of previous cells\n",
    "str = str.replace(\"train loss:\", \"ACC:\").replace(\"|\", \"\").replace(\"test loss:\", \"\")\n",
    "str = list(filter(lambda x: x is not None, str.strip().split(\"\\n\")))\n",
    "str = list(map(lambda x: x[:24].replace(\"   \", \" \"), str))\n",
    "print(\"\\n\".join(str))"
   ]
  },
  {
   "cell_type": "code",
   "execution_count": null,
   "id": "9ade6a6e-6da0-4594-a51e-505b7976a837",
   "metadata": {},
   "outputs": [],
   "source": []
  }
 ],
 "metadata": {
  "kernelspec": {
   "display_name": "Python 3 (ipykernel)",
   "language": "python",
   "name": "python3"
  },
  "language_info": {
   "codemirror_mode": {
    "name": "ipython",
    "version": 3
   },
   "file_extension": ".py",
   "mimetype": "text/x-python",
   "name": "python",
   "nbconvert_exporter": "python",
   "pygments_lexer": "ipython3",
   "version": "3.11.5"
  }
 },
 "nbformat": 4,
 "nbformat_minor": 5
}
