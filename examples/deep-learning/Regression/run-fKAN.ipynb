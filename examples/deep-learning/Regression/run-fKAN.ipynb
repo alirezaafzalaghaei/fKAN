{
 "cells": [
  {
   "cell_type": "code",
   "execution_count": 1,
   "id": "fa79f01c",
   "metadata": {
    "execution": {
     "iopub.execute_input": "2024-06-11T21:31:36.952060Z",
     "iopub.status.busy": "2024-06-11T21:31:36.951686Z",
     "iopub.status.idle": "2024-06-11T21:31:39.692420Z",
     "shell.execute_reply": "2024-06-11T21:31:39.691394Z",
     "shell.execute_reply.started": "2024-06-11T21:31:36.952025Z"
    },
    "id": "fa79f01c"
   },
   "outputs": [
    {
     "name": "stderr",
     "output_type": "stream",
     "text": [
      "2024-06-12 01:01:37.550375: I tensorflow/core/platform/cpu_feature_guard.cc:182] This TensorFlow binary is optimized to use available CPU instructions in performance-critical operations.\n",
      "To enable the following instructions: SSE4.1 SSE4.2 AVX AVX2 AVX_VNNI FMA, in other operations, rebuild TensorFlow with the appropriate compiler flags.\n"
     ]
    }
   ],
   "source": [
    "import os\n",
    "\n",
    "import matplotlib.pyplot as plt\n",
    "import numpy as np\n",
    "import tensorflow as tf\n",
    "from fkan.tensorflow import FractionalJacobiNeuralBlock as fJNB\n",
    "from sklearn.model_selection import train_test_split\n",
    "from tensorflow.keras import Sequential, optimizers\n",
    "from tensorflow.keras.callbacks import EarlyStopping\n",
    "from tensorflow.keras.layers import *\n",
    "\n",
    "tf.random.set_seed(0)\n",
    "np.random.seed(0)"
   ]
  },
  {
   "cell_type": "code",
   "execution_count": 2,
   "id": "dbc3eddd",
   "metadata": {
    "colab": {
     "base_uri": "https://localhost:8080/",
     "height": 467
    },
    "execution": {
     "iopub.execute_input": "2024-06-11T21:31:39.693511Z",
     "iopub.status.busy": "2024-06-11T21:31:39.693174Z",
     "iopub.status.idle": "2024-06-11T21:31:39.859244Z",
     "shell.execute_reply": "2024-06-11T21:31:39.858549Z",
     "shell.execute_reply.started": "2024-06-11T21:31:39.693493Z"
    },
    "id": "dbc3eddd",
    "outputId": "8d97e6fc-5b96-4da9-e603-bab652f98ee3"
   },
   "outputs": [
    {
     "name": "stdout",
     "output_type": "stream",
     "text": [
      "data shape: (50, 1) (50,)\n"
     ]
    },
    {
     "data": {
      "text/plain": [
       "[<matplotlib.lines.Line2D at 0x711daefcff50>]"
      ]
     },
     "execution_count": 2,
     "metadata": {},
     "output_type": "execute_result"
    },
    {
     "data": {
      "image/png": "[encoded data removed]",
      "text/plain": [
       "<Figure size 640x480 with 1 Axes>"
      ]
     },
     "metadata": {},
     "output_type": "display_data"
    }
   ],
   "source": [
    "def f(x):\n",
    "    return np.sin(x * np.pi) + 10 * np.exp(x / 5) + np.random.randn(len(x)) * 0.01\n",
    "\n",
    "\n",
    "a, b = -2, 1\n",
    "\n",
    "t = np.linspace(a, b, 50)\n",
    "y = f(t)\n",
    "\n",
    "X = t.reshape(-1, 1)\n",
    "\n",
    "print(\"data shape:\", X.shape, y.shape)\n",
    "plt.plot(t, y)"
   ]
  },
  {
   "cell_type": "code",
   "execution_count": 3,
   "id": "3e5d3d8a",
   "metadata": {
    "colab": {
     "base_uri": "https://localhost:8080/"
    },
    "execution": {
     "iopub.execute_input": "2024-06-11T21:31:39.860385Z",
     "iopub.status.busy": "2024-06-11T21:31:39.860143Z",
     "iopub.status.idle": "2024-06-11T21:31:39.869033Z",
     "shell.execute_reply": "2024-06-11T21:31:39.867504Z",
     "shell.execute_reply.started": "2024-06-11T21:31:39.860364Z"
    },
    "id": "3e5d3d8a",
    "outputId": "d86f87db-80e9-4c3b-ea4a-a7862152d6d5"
   },
   "outputs": [
    {
     "data": {
      "text/plain": [
       "((33, 1), (17,))"
      ]
     },
     "execution_count": 3,
     "metadata": {},
     "output_type": "execute_result"
    }
   ],
   "source": [
    "# splitting the dataset into train and test parts\n",
    "\n",
    "X_train, X_test, y_train, y_test = train_test_split(\n",
    "    X, y, test_size=0.33, random_state=0\n",
    ")\n",
    "X_train.shape, y_test.shape"
   ]
  },
  {
   "cell_type": "code",
   "execution_count": 4,
   "id": "c7b15e6a-84d4-43cc-89e5-79474afc12ed",
   "metadata": {
    "execution": {
     "iopub.execute_input": "2024-06-11T21:31:39.871427Z",
     "iopub.status.busy": "2024-06-11T21:31:39.871000Z",
     "iopub.status.idle": "2024-06-11T21:31:39.877204Z",
     "shell.execute_reply": "2024-06-11T21:31:39.875795Z",
     "shell.execute_reply.started": "2024-06-11T21:31:39.871394Z"
    }
   },
   "outputs": [],
   "source": [
    "batch_size = 512\n",
    "epochs = 10\n",
    "q = 2  # See paper for the definition and role of q\n",
    "trial = 1\n",
    "n_layers = 3"
   ]
  },
  {
   "cell_type": "markdown",
   "id": "65f74dc8-07e4-4614-b1d8-8101b98e9ba5",
   "metadata": {
    "execution": {
     "iopub.execute_input": "2024-06-11T21:18:42.397900Z",
     "iopub.status.busy": "2024-06-11T21:18:42.397486Z",
     "iopub.status.idle": "2024-06-11T21:18:42.406073Z",
     "shell.execute_reply": "2024-06-11T21:18:42.404174Z",
     "shell.execute_reply.started": "2024-06-11T21:18:42.397870Z"
    }
   },
   "source": [
    "If using a predefined Keras activation function, replace each `fJNB(q)` with: `layers.Activation(activation)`"
   ]
  },
  {
   "cell_type": "code",
   "execution_count": 5,
   "id": "Wq5qZe6kTaeM",
   "metadata": {
    "colab": {
     "base_uri": "https://localhost:8080/"
    },
    "execution": {
     "iopub.execute_input": "2024-06-11T21:31:39.878780Z",
     "iopub.status.busy": "2024-06-11T21:31:39.878417Z",
     "iopub.status.idle": "2024-06-11T21:31:44.023123Z",
     "shell.execute_reply": "2024-06-11T21:31:44.022574Z",
     "shell.execute_reply.started": "2024-06-11T21:31:39.878748Z"
    },
    "id": "Wq5qZe6kTaeM",
    "outputId": "3a7068e7-3e1e-4247-8661-2a9d89830cdc"
   },
   "outputs": [
    {
     "name": "stderr",
     "output_type": "stream",
     "text": [
      "2024-06-12 01:01:39.889417: I tensorflow/core/common_runtime/process_util.cc:146] Creating new thread pool with default inter op setting: 2. Tune using inter_op_parallelism_threads for best performance.\n"
     ]
    },
    {
     "name": "stdout",
     "output_type": "stream",
     "text": [
      "Epoch 1/10\n",
      "1/1 [==============================] - 2s 2s/step - loss: 88.9392 - mae: 9.0249 - val_loss: 112.7018 - val_mae: 10.0669\n",
      "Epoch 2/10\n",
      "1/1 [==============================] - 0s 49ms/step - loss: 84.6868 - mae: 8.8194 - val_loss: 106.6550 - val_mae: 9.8016\n",
      "Epoch 3/10\n",
      "1/1 [==============================] - 0s 38ms/step - loss: 80.7069 - mae: 8.6214 - val_loss: 100.9025 - val_mae: 9.5431\n",
      "Epoch 4/10\n",
      "1/1 [==============================] - 0s 34ms/step - loss: 76.9377 - mae: 8.4299 - val_loss: 95.3748 - val_mae: 9.2898\n",
      "Epoch 5/10\n",
      "1/1 [==============================] - 0s 52ms/step - loss: 73.3387 - mae: 8.2438 - val_loss: 90.0768 - val_mae: 9.0415\n",
      "Epoch 6/10\n",
      "1/1 [==============================] - 0s 69ms/step - loss: 69.8846 - mae: 8.0615 - val_loss: 85.0322 - val_mae: 8.7993\n",
      "Epoch 7/10\n",
      "1/1 [==============================] - 0s 51ms/step - loss: 66.5660 - mae: 7.8818 - val_loss: 80.2728 - val_mae: 8.5649\n",
      "Epoch 8/10\n",
      "1/1 [==============================] - 0s 49ms/step - loss: 63.3903 - mae: 7.7053 - val_loss: 75.8416 - val_mae: 8.3411\n",
      "Epoch 9/10\n",
      "1/1 [==============================] - 0s 38ms/step - loss: 60.3812 - mae: 7.5336 - val_loss: 71.7980 - val_mae: 8.1318\n",
      "Epoch 10/10\n",
      "1/1 [==============================] - 0s 49ms/step - loss: 57.5757 - mae: 7.3689 - val_loss: 68.2124 - val_mae: 7.9413\n"
     ]
    }
   ],
   "source": [
    "model = Sequential()\n",
    "model.add(InputLayer(input_shape=(1,)))\n",
    "for _ in range(n_layers):\n",
    "    model.add(Dense(5))\n",
    "    model.add(fJNB(q))\n",
    "\n",
    "model.add(Dense(1))\n",
    "\n",
    "opt = optimizers.Adam(learning_rate=0.01)\n",
    "loss = tf.keras.losses.MeanSquaredError(name=\"loss\")\n",
    "\n",
    "model.compile(optimizer=opt, loss=loss, metrics=[\"mae\"])\n",
    "\n",
    "early_stopping = EarlyStopping(\n",
    "    monitor=\"val_loss\", patience=50, restore_best_weights=True\n",
    ")\n",
    "\n",
    "params = dict(\n",
    "    batch_size=batch_size,\n",
    "    epochs=epochs,\n",
    "    validation_split=0.2,\n",
    "    callbacks=[early_stopping],\n",
    ")\n",
    "\n",
    "history = model.fit(X_train, y_train, **params)\n",
    "\n",
    "p = model.predict(X_test, verbose=0).flatten()\n",
    "mae_test = tf.keras.losses.mean_absolute_error(y_test, p).numpy()\n",
    "\n",
    "p = model.predict(X_train, verbose=0).flatten()\n",
    "mae_train = tf.keras.losses.mean_absolute_error(y_train, p).numpy()\n",
    "FILENAME = \"data/multi-layer/JNB%s-%d.txt\" % (q, trial)\n",
    "\n",
    "\n",
    "def myprint(s):\n",
    "    with open(FILENAME, \"a\") as f:\n",
    "        print(s, file=f)\n",
    "\n",
    "\n",
    "print(\"\\nACC: %.2e %.2e\" % (mae_train, mae_test), file=open(FILENAME, \"a\"))\n",
    "model.summary(print_fn=myprint)\n",
    "print(n_layers, file=open(FILENAME, \"a\"))"
   ]
  },
  {
   "cell_type": "code",
   "execution_count": 6,
   "id": "0f357111-8be8-43c9-9190-5886fbd80099",
   "metadata": {
    "execution": {
     "iopub.execute_input": "2024-06-11T21:31:44.024011Z",
     "iopub.status.busy": "2024-06-11T21:31:44.023815Z",
     "iopub.status.idle": "2024-06-11T21:31:45.759447Z",
     "shell.execute_reply": "2024-06-11T21:31:45.758838Z",
     "shell.execute_reply.started": "2024-06-11T21:31:44.023991Z"
    }
   },
   "outputs": [
    {
     "name": "stdout",
     "output_type": "stream",
     "text": [
      "Epoch 1/10\n",
      "1/1 [==============================] - 1s 1s/step - loss: 91.1983 - mae: 9.4117 - val_loss: 103.0714 - val_mae: 9.8923\n",
      "Epoch 2/10\n",
      "1/1 [==============================] - 0s 29ms/step - loss: 89.7677 - mae: 9.3310 - val_loss: 101.8273 - val_mae: 9.8217\n",
      "Epoch 3/10\n",
      "1/1 [==============================] - 0s 37ms/step - loss: 88.3336 - mae: 9.2492 - val_loss: 100.5858 - val_mae: 9.7505\n",
      "Epoch 4/10\n",
      "1/1 [==============================] - 0s 29ms/step - loss: 86.8969 - mae: 9.1665 - val_loss: 99.3463 - val_mae: 9.6787\n",
      "Epoch 5/10\n",
      "1/1 [==============================] - 0s 29ms/step - loss: 85.4582 - mae: 9.0827 - val_loss: 98.1081 - val_mae: 9.6064\n",
      "Epoch 6/10\n",
      "1/1 [==============================] - 0s 29ms/step - loss: 84.0179 - mae: 8.9980 - val_loss: 96.8693 - val_mae: 9.5333\n",
      "Epoch 7/10\n",
      "1/1 [==============================] - 0s 48ms/step - loss: 82.5761 - mae: 8.9123 - val_loss: 95.6272 - val_mae: 9.4595\n",
      "Epoch 8/10\n",
      "1/1 [==============================] - 0s 49ms/step - loss: 81.1327 - mae: 8.8256 - val_loss: 94.3780 - val_mae: 9.3847\n",
      "Epoch 9/10\n",
      "1/1 [==============================] - 0s 58ms/step - loss: 79.6866 - mae: 8.7379 - val_loss: 93.1166 - val_mae: 9.3089\n",
      "Epoch 10/10\n",
      "1/1 [==============================] - 0s 73ms/step - loss: 78.2362 - mae: 8.6491 - val_loss: 91.8377 - val_mae: 9.2318\n"
     ]
    }
   ],
   "source": [
    "neuron = 3\n",
    "model = Sequential()\n",
    "model.add(InputLayer(input_shape=(X_train.shape[1],)))\n",
    "model.add(Dense(neuron))\n",
    "# model.add(Activation('relu'))\n",
    "model.add(fJNB(q))\n",
    "\n",
    "model.add(Dense(1))\n",
    "\n",
    "opt = optimizers.Adam(learning_rate=0.01)\n",
    "loss = tf.keras.losses.MeanSquaredError(name=\"loss\")\n",
    "\n",
    "model.compile(optimizer=opt, loss=loss, metrics=[\"mae\"])\n",
    "\n",
    "early_stopping = EarlyStopping(\n",
    "    monitor=\"val_loss\", patience=50, restore_best_weights=True\n",
    ")\n",
    "\n",
    "params = dict(\n",
    "    epochs=epochs,\n",
    "    batch_size=batch_size,\n",
    "    verbose=1,\n",
    "    validation_split=0.2,\n",
    "    callbacks=[early_stopping],\n",
    ")\n",
    "\n",
    "history = model.fit(X_train, y_train, **params)\n",
    "\n",
    "p = model.predict(X_test, verbose=0).flatten()\n",
    "mae_test = tf.keras.losses.mean_absolute_error(y_test, p).numpy()\n",
    "\n",
    "p = model.predict(X_train, verbose=0).flatten()\n",
    "mae_train = tf.keras.losses.mean_absolute_error(y_train, p).numpy()\n",
    "FILENAME = \"data/single-layer/JNB%s-%d.txt\" % (q, trial)\n",
    "\n",
    "def myprint(s):\n",
    "    with open(FILENAME, \"a\") as f:\n",
    "        print(s, file=f)\n",
    "\n",
    "print(\"\\nACC: %.2e %.2e\" % (mae_train, mae_test), file=open(FILENAME, \"a\"))\n",
    "model.summary(print_fn=myprint)"
   ]
  },
  {
   "cell_type": "code",
   "execution_count": null,
   "id": "db62c5af-f4c0-4fde-986f-fa1eea3c5aae",
   "metadata": {},
   "outputs": [],
   "source": []
  }
 ],
 "metadata": {
  "colab": {
   "provenance": []
  },
  "kernelspec": {
   "display_name": "Python 3 (ipykernel)",
   "language": "python",
   "name": "python3"
  },
  "language_info": {
   "codemirror_mode": {
    "name": "ipython",
    "version": 3
   },
   "file_extension": ".py",
   "mimetype": "text/x-python",
   "name": "python",
   "nbconvert_exporter": "python",
   "pygments_lexer": "ipython3",
   "version": "3.11.5"
  }
 },
 "nbformat": 4,
 "nbformat_minor": 5
}
