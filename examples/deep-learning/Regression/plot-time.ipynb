{
 "cells": [
  {
   "cell_type": "code",
   "execution_count": 1,
   "id": "149f2211-651d-45ca-8647-760a7cb46ec1",
   "metadata": {
    "execution": {
     "iopub.execute_input": "2024-06-11T21:54:31.072586Z",
     "iopub.status.busy": "2024-06-11T21:54:31.071945Z",
     "iopub.status.idle": "2024-06-11T21:54:33.477223Z",
     "shell.execute_reply": "2024-06-11T21:54:33.476247Z",
     "shell.execute_reply.started": "2024-06-11T21:54:31.072517Z"
    }
   },
   "outputs": [],
   "source": [
    "import os\n",
    "\n",
    "os.environ[\"TF_CPP_MIN_LOG_LEVEL\"] = \"3\"\n",
    "\n",
    "import glob\n",
    "import os\n",
    "\n",
    "import matplotlib.pyplot as plt\n",
    "import numpy as np\n",
    "import scienceplots\n",
    "import tensorflow as tf\n",
    "from fkan.tensorflow import FractionalJacobiNeuralBlock as fJNB\n",
    "from tensorflow.keras.layers import Activation\n",
    "\n",
    "tf.keras.backend.set_floatx(\"float64\")\n",
    "\n",
    "plt.style.use(\"science\")"
   ]
  },
  {
   "cell_type": "code",
   "execution_count": 2,
   "id": "94496201-e539-4748-bc3c-8517faf194ea",
   "metadata": {
    "execution": {
     "iopub.execute_input": "2024-06-11T21:54:33.478353Z",
     "iopub.status.busy": "2024-06-11T21:54:33.477992Z",
     "iopub.status.idle": "2024-06-11T21:54:34.438910Z",
     "shell.execute_reply": "2024-06-11T21:54:34.437758Z",
     "shell.execute_reply.started": "2024-06-11T21:54:33.478335Z"
    }
   },
   "outputs": [
    {
     "name": "stdout",
     "output_type": "stream",
     "text": [
      "13.6 ms ± 1.61 ms per loop (mean ± std. dev. of 7 runs, 10 loops each)\n"
     ]
    }
   ],
   "source": [
    "%%timeit -n 10\n",
    "t = tf.random.normal((1000, 1000))\n",
    "F = Activation(\"relu\")\n",
    "F(t)"
   ]
  },
  {
   "cell_type": "code",
   "execution_count": 3,
   "id": "751d03e0-cc6c-487d-b4c2-ee1b0c584765",
   "metadata": {
    "execution": {
     "iopub.execute_input": "2024-06-11T21:54:34.441255Z",
     "iopub.status.busy": "2024-06-11T21:54:34.440800Z",
     "iopub.status.idle": "2024-06-11T21:54:35.784948Z",
     "shell.execute_reply": "2024-06-11T21:54:35.783337Z",
     "shell.execute_reply.started": "2024-06-11T21:54:34.441217Z"
    }
   },
   "outputs": [
    {
     "name": "stdout",
     "output_type": "stream",
     "text": [
      "19.1 ms ± 1.16 ms per loop (mean ± std. dev. of 7 runs, 10 loops each)\n"
     ]
    }
   ],
   "source": [
    "%%timeit -n 10\n",
    "t = tf.random.normal((1000, 1000))\n",
    "F = Activation(\"sigmoid\")\n",
    "F(t)"
   ]
  },
  {
   "cell_type": "code",
   "execution_count": 4,
   "id": "fda6ca16-0c43-41be-88ac-6005cc586b80",
   "metadata": {
    "execution": {
     "iopub.execute_input": "2024-06-11T21:54:35.786329Z",
     "iopub.status.busy": "2024-06-11T21:54:35.785994Z",
     "iopub.status.idle": "2024-06-11T21:54:37.087881Z",
     "shell.execute_reply": "2024-06-11T21:54:37.086856Z",
     "shell.execute_reply.started": "2024-06-11T21:54:35.786300Z"
    }
   },
   "outputs": [
    {
     "name": "stdout",
     "output_type": "stream",
     "text": [
      "18.5 ms ± 1.13 ms per loop (mean ± std. dev. of 7 runs, 10 loops each)\n"
     ]
    }
   ],
   "source": [
    "%%timeit -n 10\n",
    "t = tf.random.normal((1000, 1000))\n",
    "F = Activation(\"tanh\")\n",
    "F(t)"
   ]
  },
  {
   "cell_type": "code",
   "execution_count": 5,
   "id": "b9985c6d-0109-4d51-b75a-fb1d6104b5ac",
   "metadata": {
    "execution": {
     "iopub.execute_input": "2024-06-11T21:54:37.088918Z",
     "iopub.status.busy": "2024-06-11T21:54:37.088738Z",
     "iopub.status.idle": "2024-06-11T21:54:41.034288Z",
     "shell.execute_reply": "2024-06-11T21:54:41.033742Z",
     "shell.execute_reply.started": "2024-06-11T21:54:37.088901Z"
    }
   },
   "outputs": [
    {
     "name": "stdout",
     "output_type": "stream",
     "text": [
      "WARNING:tensorflow:5 out of the last 5 calls to <function jacobi_polynomial at 0x790234034360> triggered tf.function retracing. Tracing is expensive and the excessive number of tracings could be due to (1) creating @tf.function repeatedly in a loop, (2) passing tensors with different shapes, (3) passing Python objects instead of tensors. For (1), please define your @tf.function outside of the loop. For (2), @tf.function has reduce_retracing=True option that can avoid unnecessary retracing. For (3), please refer to https://www.tensorflow.org/guide/function#controlling_retracing and https://www.tensorflow.org/api_docs/python/tf/function for  more details.\n",
      "WARNING:tensorflow:6 out of the last 6 calls to <function jacobi_polynomial at 0x790234034360> triggered tf.function retracing. Tracing is expensive and the excessive number of tracings could be due to (1) creating @tf.function repeatedly in a loop, (2) passing tensors with different shapes, (3) passing Python objects instead of tensors. For (1), please define your @tf.function outside of the loop. For (2), @tf.function has reduce_retracing=True option that can avoid unnecessary retracing. For (3), please refer to https://www.tensorflow.org/guide/function#controlling_retracing and https://www.tensorflow.org/api_docs/python/tf/function for  more details.\n",
      "56.2 ms ± 22.7 ms per loop (mean ± std. dev. of 7 runs, 10 loops each)\n"
     ]
    }
   ],
   "source": [
    "%%timeit -n 10\n",
    "\n",
    "t = tf.random.normal((1000, 1000))\n",
    "F = fJNB(1)\n",
    "F(t)"
   ]
  },
  {
   "cell_type": "code",
   "execution_count": 6,
   "id": "b5c7abb6-0f3b-4492-bdba-afc7902b9242",
   "metadata": {
    "execution": {
     "iopub.execute_input": "2024-06-11T21:54:41.035381Z",
     "iopub.status.busy": "2024-06-11T21:54:41.035179Z",
     "iopub.status.idle": "2024-06-11T21:54:46.282446Z",
     "shell.execute_reply": "2024-06-11T21:54:46.281571Z",
     "shell.execute_reply.started": "2024-06-11T21:54:41.035363Z"
    }
   },
   "outputs": [
    {
     "name": "stdout",
     "output_type": "stream",
     "text": [
      "74.8 ms ± 3.17 ms per loop (mean ± std. dev. of 7 runs, 10 loops each)\n"
     ]
    }
   ],
   "source": [
    "%%timeit -n 10\n",
    "t = tf.random.normal((1000, 1000))\n",
    "F = fJNB(2)\n",
    "F(t)"
   ]
  },
  {
   "cell_type": "code",
   "execution_count": 7,
   "id": "80cdb409-d1f7-435c-bd4a-ea64e4b27acd",
   "metadata": {
    "execution": {
     "iopub.execute_input": "2024-06-11T21:54:46.286157Z",
     "iopub.status.busy": "2024-06-11T21:54:46.285821Z",
     "iopub.status.idle": "2024-06-11T21:54:53.358616Z",
     "shell.execute_reply": "2024-06-11T21:54:53.357641Z",
     "shell.execute_reply.started": "2024-06-11T21:54:46.286115Z"
    }
   },
   "outputs": [
    {
     "name": "stdout",
     "output_type": "stream",
     "text": [
      "101 ms ± 2.14 ms per loop (mean ± std. dev. of 7 runs, 10 loops each)\n"
     ]
    }
   ],
   "source": [
    "%%timeit -n 10\n",
    "t = tf.random.normal((1000, 1000))\n",
    "F = fJNB(3)\n",
    "F(t)"
   ]
  },
  {
   "cell_type": "code",
   "execution_count": 8,
   "id": "f2ca8a6a-b97a-4bce-a488-3a8efb65679c",
   "metadata": {
    "execution": {
     "iopub.execute_input": "2024-06-11T21:54:53.361587Z",
     "iopub.status.busy": "2024-06-11T21:54:53.361065Z",
     "iopub.status.idle": "2024-06-11T21:55:02.528339Z",
     "shell.execute_reply": "2024-06-11T21:55:02.527695Z",
     "shell.execute_reply.started": "2024-06-11T21:54:53.361550Z"
    }
   },
   "outputs": [
    {
     "name": "stdout",
     "output_type": "stream",
     "text": [
      "131 ms ± 6.73 ms per loop (mean ± std. dev. of 7 runs, 10 loops each)\n"
     ]
    }
   ],
   "source": [
    "%%timeit -n 10\n",
    "t = tf.random.normal((1000, 1000))\n",
    "F = fJNB(4)\n",
    "F(t)"
   ]
  },
  {
   "cell_type": "code",
   "execution_count": 9,
   "id": "eec66555-23c1-42ff-b5b1-0efae1a44d04",
   "metadata": {
    "execution": {
     "iopub.execute_input": "2024-06-11T21:55:02.530422Z",
     "iopub.status.busy": "2024-06-11T21:55:02.530210Z",
     "iopub.status.idle": "2024-06-11T21:55:13.702093Z",
     "shell.execute_reply": "2024-06-11T21:55:13.701293Z",
     "shell.execute_reply.started": "2024-06-11T21:55:02.530406Z"
    }
   },
   "outputs": [
    {
     "name": "stdout",
     "output_type": "stream",
     "text": [
      "159 ms ± 5.74 ms per loop (mean ± std. dev. of 7 runs, 10 loops each)\n"
     ]
    }
   ],
   "source": [
    "%%timeit -n 10\n",
    "t = tf.random.normal((1000, 1000))\n",
    "F = fJNB(5)\n",
    "F(t)"
   ]
  },
  {
   "cell_type": "code",
   "execution_count": 10,
   "id": "117be63b-3dcb-4d09-a56c-53fb99af55a3",
   "metadata": {
    "execution": {
     "iopub.execute_input": "2024-06-11T21:55:13.704509Z",
     "iopub.status.busy": "2024-06-11T21:55:13.704231Z",
     "iopub.status.idle": "2024-06-11T21:55:27.785425Z",
     "shell.execute_reply": "2024-06-11T21:55:27.784563Z",
     "shell.execute_reply.started": "2024-06-11T21:55:13.704489Z"
    }
   },
   "outputs": [
    {
     "name": "stdout",
     "output_type": "stream",
     "text": [
      "201 ms ± 7.25 ms per loop (mean ± std. dev. of 7 runs, 10 loops each)\n"
     ]
    }
   ],
   "source": [
    "%%timeit -n 10\n",
    "t = tf.random.normal((1000, 1000))\n",
    "F = fJNB(6)\n",
    "F(t)"
   ]
  },
  {
   "cell_type": "code",
   "execution_count": 11,
   "id": "4f630657-bbb2-4444-ae3c-2ea29517e6e7",
   "metadata": {
    "execution": {
     "iopub.execute_input": "2024-06-11T21:55:27.788120Z",
     "iopub.status.busy": "2024-06-11T21:55:27.787839Z",
     "iopub.status.idle": "2024-06-11T21:55:29.285987Z",
     "shell.execute_reply": "2024-06-11T21:55:29.285362Z",
     "shell.execute_reply.started": "2024-06-11T21:55:27.788099Z"
    }
   },
   "outputs": [
    {
     "data": {
      "image/png": "[encoded data removed]",
      "text/plain": [
       "<Figure size 600x400 with 1 Axes>"
      ]
     },
     "metadata": {},
     "output_type": "display_data"
    }
   ],
   "source": [
    "import matplotlib.pyplot as plt\n",
    "\n",
    "activation_functions = [\n",
    "    \"ReLU\",\n",
    "    \"Sigmoid\",\n",
    "    \"Tanh\",\n",
    "    \"fJNB(1)\",\n",
    "    \"fJNB(2)\",\n",
    "    \"fJNB(3)\",\n",
    "    \"fJNB(4)\",\n",
    "    \"fJNB(5)\",\n",
    "    \"fJNB(6)\",\n",
    "]\n",
    "\n",
    "cpu_mean_times = [16, 22.2, 19.4, 25.2, 25.8, 29.5, 36.5, 39.5, 46.8]\n",
    "cpu_std_devs = [0.431, 0.797, 0.518, 1.38, 0.8, 1.66, 0.482, 0.662, 1.19]\n",
    "\n",
    "gpu1_mean_times = [25.5, 26.1, 26.3, 27.8, 27.5, 27.8, 28.1, 28.4, 28.7]\n",
    "gpu1_std_devs = [0.326, 0.564, 0.802, 0.953, 0.569, 0.636, 0.968, 0.898, 1.24]\n",
    "\n",
    "gpu2_mean_times = [0.994, 1.02, 1.01, 3.94, 4.22, 5.71, 8.34, 10.3, 12.6]\n",
    "gpu2_std_devs = [0.268, 0.139, 0.184, 0.397, 0.937, 0.161, 0.651, 0.202, 0.595]\n",
    "\n",
    "\n",
    "plt.figure(figsize=(6, 4))\n",
    "plt.errorbar(\n",
    "    activation_functions,\n",
    "    cpu_mean_times,\n",
    "    yerr=cpu_std_devs,\n",
    "    fmt=\"s\",\n",
    "    capsize=3,\n",
    "    label=\"CPU\",\n",
    ")\n",
    "plt.errorbar(\n",
    "    activation_functions,\n",
    "    gpu2_mean_times,\n",
    "    yerr=gpu2_std_devs,\n",
    "    fmt=\"s\",\n",
    "    capsize=3,\n",
    "    label=\"GPU\",\n",
    "    color=\"orange\",\n",
    ")\n",
    "plt.xlabel(\"Activation Functions\")\n",
    "plt.ylabel(\"Time (ms)\")\n",
    "\n",
    "plt.legend()\n",
    "plt.grid(True)\n",
    "\n",
    "plt.tight_layout()\n",
    "plt.savefig(\"compare-time.pdf\", bbox_inches=\"tight\")\n",
    "plt.show()"
   ]
  },
  {
   "cell_type": "code",
   "execution_count": null,
   "id": "8269be74-203a-4245-8b5a-4c1b26dd5df5",
   "metadata": {},
   "outputs": [],
   "source": []
  }
 ],
 "metadata": {
  "kernelspec": {
   "display_name": "Python 3 (ipykernel)",
   "language": "python",
   "name": "python3"
  },
  "language_info": {
   "codemirror_mode": {
    "name": "ipython",
    "version": 3
   },
   "file_extension": ".py",
   "mimetype": "text/x-python",
   "name": "python",
   "nbconvert_exporter": "python",
   "pygments_lexer": "ipython3",
   "version": "3.11.5"
  }
 },
 "nbformat": 4,
 "nbformat_minor": 5
}
