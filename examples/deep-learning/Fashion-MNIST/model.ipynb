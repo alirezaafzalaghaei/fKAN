{
 "cells": [
  {
   "cell_type": "markdown",
   "metadata": {},
   "source": [
    "This notebook implementation incorporates elements from [this](https://keras.io/examples/vision/autoencoder/) Keras example."
   ]
  },
  {
   "cell_type": "code",
   "execution_count": 1,
   "metadata": {
    "execution": {
     "iopub.execute_input": "2024-06-11T20:33:32.031634Z",
     "iopub.status.busy": "2024-06-11T20:33:32.031486Z",
     "iopub.status.idle": "2024-06-11T20:33:33.657674Z",
     "shell.execute_reply": "2024-06-11T20:33:33.657204Z",
     "shell.execute_reply.started": "2024-06-11T20:33:32.031621Z"
    },
    "id": "VYTny7BGsIZ8"
   },
   "outputs": [
    {
     "name": "stderr",
     "output_type": "stream",
     "text": [
      "2024-06-12 00:03:32.354810: I tensorflow/core/platform/cpu_feature_guard.cc:182] This TensorFlow binary is optimized to use available CPU instructions in performance-critical operations.\n",
      "To enable the following instructions: SSE4.1 SSE4.2 AVX AVX2 AVX_VNNI FMA, in other operations, rebuild TensorFlow with the appropriate compiler flags.\n"
     ]
    }
   ],
   "source": [
    "import matplotlib.pyplot as plt\n",
    "import numpy as np\n",
    "import tensorflow as tf\n",
    "from fkan.tensorflow import FractionalJacobiNeuralBlock as fJNB\n",
    "from sklearn.model_selection import train_test_split\n",
    "from tensorflow.keras import backend as K\n",
    "from tensorflow.keras import layers\n",
    "from tensorflow.keras.datasets import fashion_mnist\n",
    "from tensorflow.keras.models import Model"
   ]
  },
  {
   "cell_type": "code",
   "execution_count": 2,
   "metadata": {
    "execution": {
     "iopub.execute_input": "2024-06-11T20:33:33.658440Z",
     "iopub.status.busy": "2024-06-11T20:33:33.658182Z",
     "iopub.status.idle": "2024-06-11T20:33:33.662894Z",
     "shell.execute_reply": "2024-06-11T20:33:33.662235Z",
     "shell.execute_reply.started": "2024-06-11T20:33:33.658427Z"
    }
   },
   "outputs": [],
   "source": [
    "def psnr(y_true, y_pred):\n",
    "    max_pixel = 1.0\n",
    "    return tf.image.psnr(y_true, y_pred, max_val=max_pixel)\n",
    "\n",
    "\n",
    "def ssim(y_true, y_pred):\n",
    "    max_pixel = 1.0\n",
    "    return tf.image.ssim(y_true, y_pred, max_val=max_pixel)\n",
    "\n",
    "\n",
    "def preprocess(array):\n",
    "    \"\"\"Normalizes the supplied array and reshapes it.\"\"\"\n",
    "    array = array.astype(\"float32\") / 255.0\n",
    "    array = np.reshape(array, (len(array), 28, 28, 1))\n",
    "    return array\n",
    "\n",
    "\n",
    "def noise(array):\n",
    "    \"\"\"Adds random noise to each image in the supplied array.\"\"\"\n",
    "    noise_factor = 0.3\n",
    "    noisy_array = array + noise_factor * np.random.normal(\n",
    "        loc=0.0, scale=1.0, size=array.shape\n",
    "    )\n",
    "\n",
    "    return np.clip(noisy_array, 0.0, 1.0)"
   ]
  },
  {
   "cell_type": "code",
   "execution_count": 3,
   "metadata": {
    "colab": {
     "base_uri": "https://localhost:8080/",
     "height": 394
    },
    "execution": {
     "iopub.execute_input": "2024-06-11T20:33:33.664043Z",
     "iopub.status.busy": "2024-06-11T20:33:33.663826Z",
     "iopub.status.idle": "2024-06-11T20:33:35.361116Z",
     "shell.execute_reply": "2024-06-11T20:33:35.360128Z",
     "shell.execute_reply.started": "2024-06-11T20:33:33.664029Z"
    },
    "id": "T01iekjjsIaC",
    "outputId": "a1913083-e1d8-4080-8f60-82ec4248aec9"
   },
   "outputs": [],
   "source": [
    "# Since we only need images from the dataset to encode and decode, we\n",
    "# won't use the labels.\n",
    "(train_data, _), (test_data, _) = fashion_mnist.load_data()\n",
    "\n",
    "# assume x_train is your original dataset\n",
    "train_data, valid_data = train_test_split(train_data, test_size=0.1, random_state=42)\n",
    "\n",
    "# Normalize and reshape the data\n",
    "train_data = preprocess(train_data)\n",
    "test_data = preprocess(test_data)\n",
    "valid_data = preprocess(valid_data)\n",
    "\n",
    "# Create a copy of the data with added noise\n",
    "noisy_train_data = noise(train_data)\n",
    "noisy_test_data = noise(test_data)\n",
    "noisy_valid_data = noise(valid_data)"
   ]
  },
  {
   "cell_type": "code",
   "execution_count": 4,
   "metadata": {
    "execution": {
     "iopub.execute_input": "2024-06-11T20:33:35.363602Z",
     "iopub.status.busy": "2024-06-11T20:33:35.363213Z",
     "iopub.status.idle": "2024-06-11T20:33:35.367626Z",
     "shell.execute_reply": "2024-06-11T20:33:35.366646Z",
     "shell.execute_reply.started": "2024-06-11T20:33:35.363570Z"
    }
   },
   "outputs": [],
   "source": [
    "batch_size = 512\n",
    "epochs = 20\n",
    "q = 2  # See paper for the definition and role of q\n",
    "trial = 1"
   ]
  },
  {
   "cell_type": "markdown",
   "metadata": {},
   "source": [
    "If using a predefined Keras activation function, comment out `fJNB(q)` and uncomment `x = layers.Activation(activation=activation)(x)`, specifying your desired activation function."
   ]
  },
  {
   "cell_type": "code",
   "execution_count": 5,
   "metadata": {
    "colab": {
     "base_uri": "https://localhost:8080/"
    },
    "execution": {
     "iopub.execute_input": "2024-06-11T20:33:35.368826Z",
     "iopub.status.busy": "2024-06-11T20:33:35.368460Z",
     "iopub.status.idle": "2024-06-11T20:34:01.444974Z",
     "shell.execute_reply": "2024-06-11T20:34:01.444296Z",
     "shell.execute_reply.started": "2024-06-11T20:33:35.368805Z"
    },
    "id": "HjSM8ssnsIaF",
    "outputId": "552b8597-9c39-455b-c842-4b9b4b02d5c3"
   },
   "outputs": [
    {
     "name": "stderr",
     "output_type": "stream",
     "text": [
      "2024-06-12 00:03:35.386811: I tensorflow/core/common_runtime/process_util.cc:146] Creating new thread pool with default inter op setting: 2. Tune using inter_op_parallelism_threads for best performance.\n"
     ]
    },
    {
     "name": "stdout",
     "output_type": "stream",
     "text": [
      "14/14 [==============================] - 12s 720ms/step - loss: 0.6790 - mse: 0.1633 - psnr: 7.9611 - ssim: 0.0779 - val_loss: 0.6560 - val_mse: 0.1518 - val_psnr: 8.2818 - val_ssim: 0.0815\n",
      "313/313 [==============================] - 2s 6ms/step - loss: 0.6559 - mse: 0.1511 - psnr: 8.3055 - ssim: 0.0820\n",
      "14/14 [==============================] - 10s 717ms/step - loss: 0.6338 - mse: 0.1412 - psnr: 8.6181 - ssim: 0.0845 - val_loss: 0.6022 - val_mse: 0.1254 - val_psnr: 9.1730 - val_ssim: 0.0914\n",
      "313/313 [==============================] - 2s 5ms/step - loss: 0.6022 - mse: 0.1254 - psnr: 9.1730 - ssim: 0.0914\n"
     ]
    }
   ],
   "source": [
    "input = layers.Input(shape=(28, 28, 1))\n",
    "\n",
    "# Encoder\n",
    "x = layers.Conv2D(16, (3, 3), activation=\"relu\", padding=\"same\")(input)\n",
    "x = layers.MaxPooling2D((2, 2), padding=\"same\")(x)\n",
    "x = layers.Conv2D(8, (3, 3), activation=\"relu\", padding=\"same\")(x)\n",
    "x = layers.MaxPooling2D((2, 2), padding=\"same\")(x)\n",
    "\n",
    "# Flatten the encoded representation\n",
    "x = layers.Flatten()(x)\n",
    "\n",
    "# Dense layer in the middle\n",
    "x = layers.Dense(98)(x)\n",
    "\n",
    "# x = layers.Activation(activation=activation)(x)\n",
    "x = fJNB(q)(x)\n",
    "\n",
    "\n",
    "# Reshape back to the original shape before decoder\n",
    "x = layers.Reshape((7, 7, 2))(x)\n",
    "\n",
    "\n",
    "# Decoder\n",
    "x = layers.Conv2DTranspose(8, (3, 3), strides=2, activation=\"relu\", padding=\"same\")(x)\n",
    "x = layers.Conv2DTranspose(16, (3, 3), strides=2, activation=\"relu\", padding=\"same\")(x)\n",
    "x = layers.Conv2D(1, (3, 3), activation=\"sigmoid\", padding=\"same\")(x)\n",
    "\n",
    "# Autoencoder\n",
    "autoencoder = Model(input, x)\n",
    "autoencoder.compile(\n",
    "    optimizer=\"adam\", loss=\"binary_crossentropy\", metrics=[\"mse\", psnr, ssim]\n",
    ")\n",
    "\n",
    "history1 = autoencoder.fit(\n",
    "    x=train_data,\n",
    "    y=train_data,\n",
    "    epochs=epochs,\n",
    "    batch_size=batch_size,\n",
    "    shuffle=True,\n",
    "    validation_data=(valid_data, valid_data),\n",
    ")\n",
    "scores1 = autoencoder.evaluate(test_data, test_data)\n",
    "\n",
    "history2 = autoencoder.fit(\n",
    "    x=noisy_train_data,\n",
    "    y=train_data,\n",
    "    epochs=epochs,\n",
    "    batch_size=batch_size,\n",
    "    shuffle=True,\n",
    "    validation_data=(noisy_test_data, test_data),\n",
    ")\n",
    "scores2 = autoencoder.evaluate(noisy_test_data, test_data)\n",
    "\n",
    "print(\n",
    "    history1.history,\n",
    "    scores1,\n",
    "    history2.history,\n",
    "    scores2,\n",
    "    sep=\"\\n\",\n",
    "    file=open(\"data/actoencoder-histories-JNB%s-%d.txt\" % (q, trial), \"w\"),\n",
    ")"
   ]
  }
 ],
 "metadata": {
  "accelerator": "GPU",
  "colab": {
   "name": "autoencoder",
   "provenance": [],
   "toc_visible": true
  },
  "kernelspec": {
   "display_name": "Python 3 (ipykernel)",
   "language": "python",
   "name": "python3"
  },
  "language_info": {
   "codemirror_mode": {
    "name": "ipython",
    "version": 3
   },
   "file_extension": ".py",
   "mimetype": "text/x-python",
   "name": "python",
   "nbconvert_exporter": "python",
   "pygments_lexer": "ipython3",
   "version": "3.11.5"
  }
 },
 "nbformat": 4,
 "nbformat_minor": 4
}
