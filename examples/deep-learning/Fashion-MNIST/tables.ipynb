{
 "cells": [
  {
   "cell_type": "code",
   "execution_count": 1,
   "id": "88e128ca-67a2-433b-bfc5-513e0ae72bbe",
   "metadata": {
    "execution": {
     "iopub.execute_input": "2024-06-11T20:35:04.580987Z",
     "iopub.status.busy": "2024-06-11T20:35:04.580771Z",
     "iopub.status.idle": "2024-06-11T20:35:04.773822Z",
     "shell.execute_reply": "2024-06-11T20:35:04.773018Z",
     "shell.execute_reply.started": "2024-06-11T20:35:04.580972Z"
    }
   },
   "outputs": [],
   "source": [
    "import glob\n",
    "import re\n",
    "\n",
    "import matplotlib.pyplot as plt\n",
    "import matplotlib.ticker as mtick\n",
    "import numpy as np\n",
    "import pandas as pd\n",
    "import scienceplots\n",
    "\n",
    "plt.style.use(\"science\")"
   ]
  },
  {
   "cell_type": "code",
   "execution_count": 6,
   "id": "6507e2e1-ea5f-490f-8d93-cb968efdd167",
   "metadata": {
    "execution": {
     "iopub.execute_input": "2024-06-11T20:35:27.608705Z",
     "iopub.status.busy": "2024-06-11T20:35:27.608498Z",
     "iopub.status.idle": "2024-06-11T20:35:27.640740Z",
     "shell.execute_reply": "2024-06-11T20:35:27.640229Z",
     "shell.execute_reply.started": "2024-06-11T20:35:27.608690Z"
    }
   },
   "outputs": [
    {
     "data": {
      "text/plain": [
       "((5, 5, 2, 8, 20), (5, 5, 2, 4))"
      ]
     },
     "execution_count": 6,
     "metadata": {},
     "output_type": "execute_result"
    }
   ],
   "source": [
    "activations = [\"sigmoid\", \"tanh\", \"relu\", \"JNB5\", \"JNB6\"]\n",
    "DATA = []\n",
    "SCORES = []\n",
    "for activation in activations:\n",
    "    files = sorted(glob.glob(\"data/*%s*.txt\" % activation))\n",
    "    alg1 = []\n",
    "    alg2 = []\n",
    "    for file in files:\n",
    "        history1, score1, history2, score2 = list(\n",
    "            map(lambda t: eval(str.strip(t)), open(file).readlines())\n",
    "        )\n",
    "        data = []\n",
    "        score = []\n",
    "        for history, score_ in [(history1, score1), (history2, score2)]:\n",
    "            d = (\n",
    "                history[\"loss\"],\n",
    "                history[\"val_loss\"],\n",
    "                history[\"mse\"],\n",
    "                history[\"val_mse\"],\n",
    "                history[\"psnr\"],\n",
    "                history[\"val_psnr\"],\n",
    "                history[\"ssim\"],\n",
    "                history[\"val_ssim\"],\n",
    "            )\n",
    "            data.append(d)\n",
    "            score.append(score_)\n",
    "\n",
    "        alg1.append(data)\n",
    "        alg2.append(score)\n",
    "    DATA.append(alg1)\n",
    "    SCORES.append(alg2)\n",
    "DATA = np.array(DATA)\n",
    "SCORES = np.array(SCORES)\n",
    "DATA.shape, SCORES.shape"
   ]
  },
  {
   "cell_type": "code",
   "execution_count": 7,
   "id": "98ef3105-10e7-42db-b627-7b4e3ac7b39f",
   "metadata": {
    "execution": {
     "iopub.execute_input": "2024-06-11T20:35:28.444589Z",
     "iopub.status.busy": "2024-06-11T20:35:28.444083Z",
     "iopub.status.idle": "2024-06-11T20:35:28.451359Z",
     "shell.execute_reply": "2024-06-11T20:35:28.449832Z",
     "shell.execute_reply.started": "2024-06-11T20:35:28.444556Z"
    }
   },
   "outputs": [],
   "source": [
    "x = list(range(1, 1 + 20))\n",
    "mapping = {\n",
    "    \"JNB2\": \"JNB(2)\",\n",
    "    \"JNB3\": \"JNB(3)\",\n",
    "    \"JNB4\": \"JNB(4)\",\n",
    "    \"JNB5\": \"JNB(5)\",\n",
    "    \"JNB6\": \"JNB(6)\",\n",
    "    \"RELU\": \"ReLU\",\n",
    "    \"SIGMOID\": \"Sigmoid\",\n",
    "    \"TANH\": \"Tanh\",\n",
    "}\n",
    "\n",
    "names = []\n",
    "for i in range(0, len(activations)):\n",
    "    names.append(mapping[activations[i].upper()])"
   ]
  },
  {
   "cell_type": "code",
   "execution_count": 8,
   "id": "7002fa2d-d8f1-4a27-a03f-5cdc9fe80879",
   "metadata": {
    "execution": {
     "iopub.execute_input": "2024-06-11T20:35:28.909741Z",
     "iopub.status.busy": "2024-06-11T20:35:28.909366Z",
     "iopub.status.idle": "2024-06-11T20:35:28.916366Z",
     "shell.execute_reply": "2024-06-11T20:35:28.914891Z",
     "shell.execute_reply.started": "2024-06-11T20:35:28.909713Z"
    }
   },
   "outputs": [],
   "source": [
    "mean = SCORES.mean(axis=1)\n",
    "std = SCORES.std(axis=1)"
   ]
  },
  {
   "cell_type": "code",
   "execution_count": 9,
   "id": "a1832706-3d57-4c83-88c8-6ea13fba5f09",
   "metadata": {
    "execution": {
     "iopub.execute_input": "2024-06-11T20:35:29.964424Z",
     "iopub.status.busy": "2024-06-11T20:35:29.963935Z",
     "iopub.status.idle": "2024-06-11T20:35:29.970133Z",
     "shell.execute_reply": "2024-06-11T20:35:29.969521Z",
     "shell.execute_reply.started": "2024-06-11T20:35:29.964387Z"
    }
   },
   "outputs": [
    {
     "data": {
      "text/plain": [
       "(5, 2, 4)"
      ]
     },
     "execution_count": 9,
     "metadata": {},
     "output_type": "execute_result"
    }
   ],
   "source": [
    "mean.shape"
   ]
  },
  {
   "cell_type": "code",
   "execution_count": 10,
   "id": "66ad008e-69db-4db3-bb99-8adc18871913",
   "metadata": {
    "execution": {
     "iopub.execute_input": "2024-06-11T20:35:40.097680Z",
     "iopub.status.busy": "2024-06-11T20:35:40.097280Z",
     "iopub.status.idle": "2024-06-11T20:35:40.111260Z",
     "shell.execute_reply": "2024-06-11T20:35:40.110610Z",
     "shell.execute_reply.started": "2024-06-11T20:35:40.097651Z"
    }
   },
   "outputs": [
    {
     "data": {
      "text/html": [
       "<div>\n",
       "<style scoped>\n",
       "    .dataframe tbody tr th:only-of-type {\n",
       "        vertical-align: middle;\n",
       "    }\n",
       "\n",
       "    .dataframe tbody tr th {\n",
       "        vertical-align: top;\n",
       "    }\n",
       "\n",
       "    .dataframe thead th {\n",
       "        text-align: right;\n",
       "    }\n",
       "</style>\n",
       "<table border=\"1\" class=\"dataframe\">\n",
       "  <thead>\n",
       "    <tr style=\"text-align: right;\">\n",
       "      <th></th>\n",
       "      <th>Loss</th>\n",
       "      <th>MSE</th>\n",
       "      <th>PSNR</th>\n",
       "      <th>SSIM</th>\n",
       "    </tr>\n",
       "  </thead>\n",
       "  <tbody>\n",
       "    <tr>\n",
       "      <th>Sigmoid</th>\n",
       "      <td>$0.298 \\pm 0.011$</td>\n",
       "      <td>$0.018 \\pm 0.003$</td>\n",
       "      <td>$18.026 \\pm 0.709$</td>\n",
       "      <td>$0.579 \\pm 0.043$</td>\n",
       "    </tr>\n",
       "    <tr>\n",
       "      <th>Tanh</th>\n",
       "      <td>$0.295 \\pm 0.007$</td>\n",
       "      <td>$0.017 \\pm 0.002$</td>\n",
       "      <td>$18.078 \\pm 0.545$</td>\n",
       "      <td>$0.583 \\pm 0.035$</td>\n",
       "    </tr>\n",
       "    <tr>\n",
       "      <th>ReLU</th>\n",
       "      <td>$0.294 \\pm 0.002$</td>\n",
       "      <td>$0.017 \\pm 0.001$</td>\n",
       "      <td>$18.124 \\pm 0.227$</td>\n",
       "      <td>$0.577 \\pm 0.013$</td>\n",
       "    </tr>\n",
       "    <tr>\n",
       "      <th>JNB(5)</th>\n",
       "      <td>$0.283 \\pm 0.002$</td>\n",
       "      <td>$0.013 \\pm 0.001$</td>\n",
       "      <td>$19.205 \\pm 0.300$</td>\n",
       "      <td>$0.647 \\pm 0.015$</td>\n",
       "    </tr>\n",
       "    <tr>\n",
       "      <th>JNB(6)</th>\n",
       "      <td>$0.284 \\pm 0.003$</td>\n",
       "      <td>$0.013 \\pm 0.001$</td>\n",
       "      <td>$19.171 \\pm 0.337$</td>\n",
       "      <td>$0.648 \\pm 0.019$</td>\n",
       "    </tr>\n",
       "  </tbody>\n",
       "</table>\n",
       "</div>"
      ],
      "text/plain": [
       "                      Loss                MSE                PSNR  \\\n",
       "Sigmoid  $0.298 \\pm 0.011$  $0.018 \\pm 0.003$  $18.026 \\pm 0.709$   \n",
       "Tanh     $0.295 \\pm 0.007$  $0.017 \\pm 0.002$  $18.078 \\pm 0.545$   \n",
       "ReLU     $0.294 \\pm 0.002$  $0.017 \\pm 0.001$  $18.124 \\pm 0.227$   \n",
       "JNB(5)   $0.283 \\pm 0.002$  $0.013 \\pm 0.001$  $19.205 \\pm 0.300$   \n",
       "JNB(6)   $0.284 \\pm 0.003$  $0.013 \\pm 0.001$  $19.171 \\pm 0.337$   \n",
       "\n",
       "                      SSIM  \n",
       "Sigmoid  $0.579 \\pm 0.043$  \n",
       "Tanh     $0.583 \\pm 0.035$  \n",
       "ReLU     $0.577 \\pm 0.013$  \n",
       "JNB(5)   $0.647 \\pm 0.015$  \n",
       "JNB(6)   $0.648 \\pm 0.019$  "
      ]
     },
     "execution_count": 10,
     "metadata": {},
     "output_type": "execute_result"
    }
   ],
   "source": [
    "columns = [\"Loss\", \"MSE\", \"PSNR\", \"SSIM\"]\n",
    "df = pd.DataFrame(index=names, columns=columns)\n",
    "alg = 0\n",
    "\n",
    "# Populate DataFrame with mean +- std\n",
    "for i in range(mean.shape[0]):\n",
    "    for j in range(mean.shape[2]):\n",
    "        df.at[\n",
    "            names[i], columns[j]\n",
    "        ] = f\"${mean[i, alg, j]:.3f} \\pm {std[i, alg, j]:.3f}$\"\n",
    "\n",
    "df"
   ]
  },
  {
   "cell_type": "code",
   "execution_count": 11,
   "id": "1985c722-fcd1-42cc-b1f4-321e12c17fc2",
   "metadata": {
    "execution": {
     "iopub.execute_input": "2024-06-11T20:35:41.865793Z",
     "iopub.status.busy": "2024-06-11T20:35:41.865610Z",
     "iopub.status.idle": "2024-06-11T20:35:41.880925Z",
     "shell.execute_reply": "2024-06-11T20:35:41.880118Z",
     "shell.execute_reply.started": "2024-06-11T20:35:41.865777Z"
    }
   },
   "outputs": [
    {
     "data": {
      "text/html": [
       "<div>\n",
       "<style scoped>\n",
       "    .dataframe tbody tr th:only-of-type {\n",
       "        vertical-align: middle;\n",
       "    }\n",
       "\n",
       "    .dataframe tbody tr th {\n",
       "        vertical-align: top;\n",
       "    }\n",
       "\n",
       "    .dataframe thead th {\n",
       "        text-align: right;\n",
       "    }\n",
       "</style>\n",
       "<table border=\"1\" class=\"dataframe\">\n",
       "  <thead>\n",
       "    <tr style=\"text-align: right;\">\n",
       "      <th></th>\n",
       "      <th>Loss</th>\n",
       "      <th>MSE</th>\n",
       "      <th>PSNR</th>\n",
       "      <th>SSIM</th>\n",
       "    </tr>\n",
       "  </thead>\n",
       "  <tbody>\n",
       "    <tr>\n",
       "      <th>Sigmoid</th>\n",
       "      <td>$0.30 \\pm 0.00$</td>\n",
       "      <td>$0.02 \\pm 0.00$</td>\n",
       "      <td>$17.81 \\pm 0.35$</td>\n",
       "      <td>$0.56 \\pm 0.02$</td>\n",
       "    </tr>\n",
       "    <tr>\n",
       "      <th>Tanh</th>\n",
       "      <td>$0.30 \\pm 0.00$</td>\n",
       "      <td>$0.02 \\pm 0.00$</td>\n",
       "      <td>$17.83 \\pm 0.26$</td>\n",
       "      <td>$0.56 \\pm 0.02$</td>\n",
       "    </tr>\n",
       "    <tr>\n",
       "      <th>ReLU</th>\n",
       "      <td>$0.30 \\pm 0.00$</td>\n",
       "      <td>$0.02 \\pm 0.00$</td>\n",
       "      <td>$17.54 \\pm 0.19$</td>\n",
       "      <td>$0.54 \\pm 0.01$</td>\n",
       "    </tr>\n",
       "    <tr>\n",
       "      <th>JNB(5)</th>\n",
       "      <td>$0.29 \\pm 0.00$</td>\n",
       "      <td>$0.02 \\pm 0.00$</td>\n",
       "      <td>$18.16 \\pm 0.31$</td>\n",
       "      <td>$0.58 \\pm 0.02$</td>\n",
       "    </tr>\n",
       "    <tr>\n",
       "      <th>JNB(6)</th>\n",
       "      <td>$0.29 \\pm 0.00$</td>\n",
       "      <td>$0.02 \\pm 0.00$</td>\n",
       "      <td>$18.21 \\pm 0.17$</td>\n",
       "      <td>$0.59 \\pm 0.01$</td>\n",
       "    </tr>\n",
       "  </tbody>\n",
       "</table>\n",
       "</div>"
      ],
      "text/plain": [
       "                    Loss              MSE              PSNR             SSIM\n",
       "Sigmoid  $0.30 \\pm 0.00$  $0.02 \\pm 0.00$  $17.81 \\pm 0.35$  $0.56 \\pm 0.02$\n",
       "Tanh     $0.30 \\pm 0.00$  $0.02 \\pm 0.00$  $17.83 \\pm 0.26$  $0.56 \\pm 0.02$\n",
       "ReLU     $0.30 \\pm 0.00$  $0.02 \\pm 0.00$  $17.54 \\pm 0.19$  $0.54 \\pm 0.01$\n",
       "JNB(5)   $0.29 \\pm 0.00$  $0.02 \\pm 0.00$  $18.16 \\pm 0.31$  $0.58 \\pm 0.02$\n",
       "JNB(6)   $0.29 \\pm 0.00$  $0.02 \\pm 0.00$  $18.21 \\pm 0.17$  $0.59 \\pm 0.01$"
      ]
     },
     "execution_count": 11,
     "metadata": {},
     "output_type": "execute_result"
    }
   ],
   "source": [
    "columns = [\"Loss\", \"MSE\", \"PSNR\", \"SSIM\"]\n",
    "df2 = pd.DataFrame(index=names, columns=columns)\n",
    "alg = 1\n",
    "# Populate DataFrame with mean +- std\n",
    "for i in range(mean.shape[0]):\n",
    "    for j in range(mean.shape[2]):\n",
    "        df2.at[\n",
    "            names[i], columns[j]\n",
    "        ] = f\"${mean[i, alg, j]:.2f} \\pm {std[i, alg, j]:.2f}$\"\n",
    "df2\n",
    "# print(df.reset_index(drop=True))"
   ]
  },
  {
   "cell_type": "code",
   "execution_count": null,
   "id": "80f31037-83b5-4f78-a45e-49a38feb53a7",
   "metadata": {},
   "outputs": [],
   "source": []
  }
 ],
 "metadata": {
  "kernelspec": {
   "display_name": "Python 3 (ipykernel)",
   "language": "python",
   "name": "python3"
  },
  "language_info": {
   "codemirror_mode": {
    "name": "ipython",
    "version": 3
   },
   "file_extension": ".py",
   "mimetype": "text/x-python",
   "name": "python",
   "nbconvert_exporter": "python",
   "pygments_lexer": "ipython3",
   "version": "3.11.5"
  }
 },
 "nbformat": 4,
 "nbformat_minor": 5
}
