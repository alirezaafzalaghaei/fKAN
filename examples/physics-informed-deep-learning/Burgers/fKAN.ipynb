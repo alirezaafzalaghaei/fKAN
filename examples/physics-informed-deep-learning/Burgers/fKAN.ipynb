{
 "cells": [
  {
   "cell_type": "code",
   "execution_count": 1,
   "id": "6ef7b6aa-2849-4f5f-a93c-3d180765627a",
   "metadata": {
    "execution": {
     "iopub.execute_input": "2024-06-11T22:45:52.333362Z",
     "iopub.status.busy": "2024-06-11T22:45:52.332848Z",
     "iopub.status.idle": "2024-06-11T22:45:53.521592Z",
     "shell.execute_reply": "2024-06-11T22:45:53.520446Z",
     "shell.execute_reply.started": "2024-06-11T22:45:52.333315Z"
    }
   },
   "outputs": [],
   "source": [
    "def seed_everything(seed: int):\n",
    "    import os\n",
    "    import random\n",
    "\n",
    "    import numpy as np\n",
    "    import torch\n",
    "\n",
    "    random.seed(seed)\n",
    "    os.environ[\"PYTHONHASHSEED\"] = str(seed)\n",
    "    np.random.seed(seed)\n",
    "    torch.manual_seed(seed)\n",
    "    torch.cuda.manual_seed(seed)\n",
    "    torch.backends.cudnn.deterministic = True\n",
    "    torch.backends.cudnn.benchmark = True\n",
    "\n",
    "\n",
    "seed_everything(1)"
   ]
  },
  {
   "cell_type": "code",
   "execution_count": 2,
   "id": "a54c171d-9944-43ca-a646-7a5278f49ef1",
   "metadata": {
    "execution": {
     "iopub.execute_input": "2024-06-11T22:45:53.522471Z",
     "iopub.status.busy": "2024-06-11T22:45:53.522231Z",
     "iopub.status.idle": "2024-06-11T22:45:53.899805Z",
     "shell.execute_reply": "2024-06-11T22:45:53.898522Z",
     "shell.execute_reply.started": "2024-06-11T22:45:53.522439Z"
    }
   },
   "outputs": [],
   "source": [
    "import glob\n",
    "import os\n",
    "import re\n",
    "\n",
    "import matplotlib as mpl\n",
    "import matplotlib.pyplot as plt\n",
    "import matplotlib.ticker as ticker\n",
    "import numpy as np\n",
    "import scienceplots\n",
    "import torch\n",
    "from fkan.torch import FractionalJacobiNeuralBlock as fJNB\n",
    "from mpl_toolkits.mplot3d import Axes3D\n",
    "from torch import nn, optim"
   ]
  },
  {
   "cell_type": "code",
   "execution_count": 3,
   "id": "1a48592b-1584-4c98-93ba-8ed638179864",
   "metadata": {
    "execution": {
     "iopub.execute_input": "2024-06-11T22:45:53.901171Z",
     "iopub.status.busy": "2024-06-11T22:45:53.900864Z",
     "iopub.status.idle": "2024-06-11T22:45:53.999902Z",
     "shell.execute_reply": "2024-06-11T22:45:53.998573Z",
     "shell.execute_reply.started": "2024-06-11T22:45:53.901144Z"
    }
   },
   "outputs": [],
   "source": [
    "plt.style.use(\"science\")\n",
    "mpl.use(\"pgf\")\n",
    "\n",
    "plt.rcParams.update(\n",
    "    {\"text.usetex\": True, \"pgf.preamble\": r\"\\usepackage{amssymb} \\usepackage{amsmath}\"}\n",
    ")"
   ]
  },
  {
   "cell_type": "code",
   "execution_count": 4,
   "id": "2345a65a-cfb2-407e-b633-a2415d02ce29",
   "metadata": {
    "execution": {
     "iopub.execute_input": "2024-06-11T22:45:54.001634Z",
     "iopub.status.busy": "2024-06-11T22:45:54.001255Z",
     "iopub.status.idle": "2024-06-11T22:45:54.008539Z",
     "shell.execute_reply": "2024-06-11T22:45:54.006585Z",
     "shell.execute_reply.started": "2024-06-11T22:45:54.001608Z"
    }
   },
   "outputs": [],
   "source": [
    "def dy_dx(y, x):\n",
    "    return torch.autograd.grad(\n",
    "        y, x, grad_outputs=torch.ones_like(y), create_graph=True\n",
    "    )[0]"
   ]
  },
  {
   "cell_type": "code",
   "execution_count": 5,
   "id": "c75a3ae0-fa9b-4448-8f96-f0cd83feba2a",
   "metadata": {
    "execution": {
     "iopub.execute_input": "2024-06-11T22:45:54.011810Z",
     "iopub.status.busy": "2024-06-11T22:45:54.011250Z",
     "iopub.status.idle": "2024-06-11T22:45:54.025498Z",
     "shell.execute_reply": "2024-06-11T22:45:54.022742Z",
     "shell.execute_reply.started": "2024-06-11T22:45:54.011754Z"
    }
   },
   "outputs": [],
   "source": [
    "class Model(nn.Module):\n",
    "    def __init__(self):\n",
    "        super(Model, self).__init__()\n",
    "\n",
    "        self.jacobies = []\n",
    "        self.hiddens = []\n",
    "        self.n_hidden = 2\n",
    "        for i in range(1, 7):\n",
    "            act = fJNB(i)\n",
    "            # act = nn.Tanh()\n",
    "            self.jacobies.append(act)\n",
    "            self.hiddens.append(nn.Linear(2, self.n_hidden))\n",
    "        self.output = nn.Linear(self.n_hidden * len(self.jacobies), 1)\n",
    "\n",
    "    def forward(self, x):\n",
    "        acts = []\n",
    "        for hidden, jacobi in zip(self.hiddens, self.jacobies):\n",
    "            q = hidden(x)\n",
    "            acts.append(jacobi(q))\n",
    "        h = torch.cat(acts, dim=1)\n",
    "        output = self.output(h)\n",
    "        return output"
   ]
  },
  {
   "cell_type": "code",
   "execution_count": 6,
   "id": "485012d7-b6e8-4429-bf1d-fdbcd0a946de",
   "metadata": {
    "execution": {
     "iopub.execute_input": "2024-06-11T22:45:54.028107Z",
     "iopub.status.busy": "2024-06-11T22:45:54.027184Z",
     "iopub.status.idle": "2024-06-11T22:45:54.776891Z",
     "shell.execute_reply": "2024-06-11T22:45:54.775875Z",
     "shell.execute_reply.started": "2024-06-11T22:45:54.028072Z"
    }
   },
   "outputs": [],
   "source": [
    "x = torch.linspace(0, 1, 100, requires_grad=True)\n",
    "t = torch.linspace(0, 1, 100, requires_grad=True)\n",
    "\n",
    "x, t = torch.meshgrid(x, t, indexing=\"ij\")\n",
    "x = x.reshape(-1, 1)\n",
    "t = t.reshape(-1, 1)\n",
    "\n",
    "\n",
    "mlp = Model()\n",
    "optimizer = optim.LBFGS(list(mlp.parameters()), lr=0.1)"
   ]
  },
  {
   "cell_type": "code",
   "execution_count": 7,
   "id": "158e75b6-ed89-4308-b4a2-44207d1a028b",
   "metadata": {
    "execution": {
     "iopub.execute_input": "2024-06-11T22:45:54.779480Z",
     "iopub.status.busy": "2024-06-11T22:45:54.779147Z",
     "iopub.status.idle": "2024-06-11T22:45:54.783618Z",
     "shell.execute_reply": "2024-06-11T22:45:54.782878Z",
     "shell.execute_reply.started": "2024-06-11T22:45:54.779461Z"
    }
   },
   "outputs": [],
   "source": [
    "# c, alpha, nu = 0.1, 1, 0.01  # param set 1 (see paper for details)\n",
    "c, alpha, nu = 0.5, 0.1, 0.0001     # param set 2 (see paper for details)\n",
    "\n",
    "Exact = lambda x, t: c / alpha + (2 * nu / alpha) * torch.tanh(x - c * t)"
   ]
  },
  {
   "cell_type": "code",
   "execution_count": 8,
   "id": "f3c7b114-6d25-464e-9759-8ebaae157f48",
   "metadata": {
    "execution": {
     "iopub.execute_input": "2024-06-11T22:45:54.784572Z",
     "iopub.status.busy": "2024-06-11T22:45:54.784400Z",
     "iopub.status.idle": "2024-06-11T22:45:54.789373Z",
     "shell.execute_reply": "2024-06-11T22:45:54.788744Z",
     "shell.execute_reply.started": "2024-06-11T22:45:54.784554Z"
    }
   },
   "outputs": [],
   "source": [
    "def get_loss(x, t):\n",
    "    x_t = torch.cat((x, t), 1)\n",
    "    x_0 = torch.cat((x, 0 * t), 1)\n",
    "\n",
    "    u = mlp.forward(x_t)\n",
    "    u_t = dy_dx(u, t)\n",
    "    u_x = dy_dx(u, x)\n",
    "    u_xx = dy_dx(u_x, x)\n",
    "\n",
    "    residual_pde = u_t + alpha * u_x * u - nu * u_xx\n",
    "\n",
    "    residual_init = mlp.forward(x_0) - Exact(x, 0)\n",
    "\n",
    "    loss = 1e6 * ((residual_pde**2).mean() + (residual_init**2).mean())\n",
    "    return loss"
   ]
  },
  {
   "cell_type": "code",
   "execution_count": 9,
   "id": "cbda3550-2bf5-43ea-afe9-cc26d05dfb56",
   "metadata": {
    "execution": {
     "iopub.execute_input": "2024-06-11T22:45:54.790184Z",
     "iopub.status.busy": "2024-06-11T22:45:54.790021Z",
     "iopub.status.idle": "2024-06-11T22:45:54.794025Z",
     "shell.execute_reply": "2024-06-11T22:45:54.793498Z",
     "shell.execute_reply.started": "2024-06-11T22:45:54.790169Z"
    }
   },
   "outputs": [],
   "source": [
    "def closure():\n",
    "    loss = get_loss(x, t)\n",
    "    optimizer.zero_grad()\n",
    "    loss.backward()\n",
    "    return loss"
   ]
  },
  {
   "cell_type": "code",
   "execution_count": 10,
   "id": "aa165b2d-ad27-41ac-bdec-a881958b7b30",
   "metadata": {
    "execution": {
     "iopub.execute_input": "2024-06-11T22:45:54.794812Z",
     "iopub.status.busy": "2024-06-11T22:45:54.794646Z",
     "iopub.status.idle": "2024-06-11T22:50:33.815433Z",
     "shell.execute_reply": "2024-06-11T22:50:33.814311Z",
     "shell.execute_reply.started": "2024-06-11T22:45:54.794797Z"
    }
   },
   "outputs": [
    {
     "name": "stdout",
     "output_type": "stream",
     "text": [
      "Epoch   2: Current loss: 5.72e+05\n",
      "Epoch   4: Current loss: 5.98e+03\n",
      "Epoch   6: Current loss: 1.27e+02\n",
      "Epoch   8: Current loss: 3.50e+01\n",
      "Epoch  10: Current loss: 6.65e+00\n",
      "Epoch  12: Current loss: 5.89e+00\n",
      "Epoch  14: Current loss: 2.30e-01\n",
      "Epoch  16: Current loss: 2.12e-01\n",
      "Epoch  18: Current loss: 2.12e-01\n",
      "Epoch  20: Current loss: 1.62e-01\n",
      "Epoch  22: Current loss: 1.20e-01\n",
      "Epoch  24: Current loss: 1.20e-01\n",
      "Epoch  26: Current loss: 1.20e-01\n",
      "Epoch  28: Current loss: 1.20e-01\n",
      "Epoch  30: Current loss: 1.20e-01\n",
      "Epoch  32: Current loss: 1.20e-01\n",
      "Epoch  34: Current loss: 1.20e-01\n",
      "Epoch  36: Current loss: 1.20e-01\n",
      "Epoch  38: Current loss: 1.20e-01\n",
      "Epoch  40: Current loss: 1.20e-01\n",
      "Epoch  42: Current loss: 1.19e-01\n",
      "Epoch  44: Current loss: 1.17e-01\n",
      "Epoch  46: Current loss: 4.14e-03\n",
      "Epoch  48: Current loss: 6.31e-04\n"
     ]
    }
   ],
   "source": [
    "losses = []\n",
    "\n",
    "for i in range(1, 100):\n",
    "    loss = get_loss(x, t)\n",
    "    optimizer.step(closure)\n",
    "    losses.append(loss.detach().numpy())\n",
    "    if i % 2 == 0:\n",
    "        print(\"Epoch %3d: Current loss: %.2e\" % (i, losses[-1]))"
   ]
  },
  {
   "cell_type": "code",
   "execution_count": 11,
   "id": "312194d7-9c86-486a-99ff-5258ba31c5f3",
   "metadata": {
    "execution": {
     "iopub.execute_input": "2024-06-11T22:50:33.817145Z",
     "iopub.status.busy": "2024-06-11T22:50:33.816804Z",
     "iopub.status.idle": "2024-06-11T22:50:33.841206Z",
     "shell.execute_reply": "2024-06-11T22:50:33.840169Z",
     "shell.execute_reply.started": "2024-06-11T22:50:33.817119Z"
    }
   },
   "outputs": [
    {
     "name": "stdout",
     "output_type": "stream",
     "text": [
      "Mean Absolute Error: 1.17e-05\n"
     ]
    }
   ],
   "source": [
    "Nx, Nt = 21, 15\n",
    "x = torch.linspace(0, 1, Nx)\n",
    "t = torch.linspace(0, 1, Nt)\n",
    "\n",
    "x, t = torch.meshgrid(x, t, indexing=\"ij\")\n",
    "x = x.reshape(-1, 1)\n",
    "t = t.reshape(-1, 1)\n",
    "x_t = torch.cat((x, t), 1)\n",
    "\n",
    "exact = Exact(x, t).reshape(Nx, Nt)\n",
    "predict = mlp.forward(x_t).reshape(Nx, Nt)\n",
    "error = exact - predict\n",
    "\n",
    "MAE = torch.abs(error).mean()\n",
    "\n",
    "print(\"Mean Absolute Error: %.2e\" % MAE)"
   ]
  },
  {
   "cell_type": "code",
   "execution_count": 12,
   "id": "f4f7658a-ad72-4214-9578-a48630831bb1",
   "metadata": {
    "execution": {
     "iopub.execute_input": "2024-06-11T22:50:33.843051Z",
     "iopub.status.busy": "2024-06-11T22:50:33.842629Z",
     "iopub.status.idle": "2024-06-11T22:50:33.985443Z",
     "shell.execute_reply": "2024-06-11T22:50:33.984877Z",
     "shell.execute_reply.started": "2024-06-11T22:50:33.843018Z"
    }
   },
   "outputs": [
    {
     "data": {
      "text/plain": [
       "[<matplotlib.lines.Line2D at 0x78cf74d22450>]"
      ]
     },
     "execution_count": 12,
     "metadata": {},
     "output_type": "execute_result"
    }
   ],
   "source": [
    "x = x.reshape(Nx, Nt)\n",
    "t = t.reshape(Nx, Nt)\n",
    "\n",
    "fig = plt.figure(figsize=(15, 5))\n",
    "ax = fig.add_subplot(131, projection=\"3d\")\n",
    "ax.plot_surface(x, t, predict.detach().numpy(), cmap=\"viridis\")\n",
    "ax.view_init(10, 45)\n",
    "\n",
    "ax = fig.add_subplot(132, projection=\"3d\")\n",
    "ax.plot_surface(x, t, exact.detach().numpy(), cmap=\"viridis\")\n",
    "ax.view_init(10, 45)\n",
    "ax = fig.add_subplot(133, projection=\"3d\")\n",
    "ax.plot_surface(x, t, error.detach().numpy(), cmap=\"viridis\")\n",
    "ax.view_init(10, 45)\n",
    "fig = plt.figure(figsize=(15, 5))\n",
    "ax = fig.add_subplot(111)\n",
    "ax.plot(np.log10(losses), \"c\", label=\"Loss\")"
   ]
  },
  {
   "cell_type": "code",
   "execution_count": 13,
   "id": "786f4fa9-4a4c-4792-ba1b-21fbf76dc75f",
   "metadata": {
    "execution": {
     "iopub.execute_input": "2024-06-11T22:50:33.986493Z",
     "iopub.status.busy": "2024-06-11T22:50:33.986277Z",
     "iopub.status.idle": "2024-06-11T22:50:39.303892Z",
     "shell.execute_reply": "2024-06-11T22:50:39.302944Z",
     "shell.execute_reply.started": "2024-06-11T22:50:33.986474Z"
    }
   },
   "outputs": [],
   "source": [
    "fig = plt.figure(figsize=(12, 7))\n",
    "\n",
    "ax = fig.add_subplot(111, projection=\"3d\")\n",
    "\n",
    "ax.plot_surface(x, t, predict.detach().numpy(), cmap=\"viridis\")\n",
    "\n",
    "ax.xaxis.pane.fill = False\n",
    "ax.yaxis.pane.fill = False\n",
    "ax.zaxis.pane.fill = False\n",
    "\n",
    "ax.xaxis.pane.set_edgecolor(\"w\")\n",
    "ax.yaxis.pane.set_edgecolor(\"w\")\n",
    "ax.zaxis.pane.set_edgecolor(\"w\")\n",
    "ax.set_yticks([0, 0.5, 1])\n",
    "ax.set_xlabel(r\"$\\zeta$\")\n",
    "ax.set_ylabel(r\"$\\tau$\")\n",
    "ax.set_zlabel(r\"$\\hat{\\chi}(\\zeta,\\tau)$\")\n",
    "ax.view_init(elev=15, azim=-260)\n",
    "\n",
    "# fig.subplots_adjust(left=0, right=1, top=2, bottom=0)\n",
    "plt.savefig(\n",
    "    \"burgers-2-prediction.pdf\",\n",
    "    bbox_inches=\"tight\",\n",
    "    pad_inches=0,\n",
    ")\n",
    "\n",
    "fig = plt.figure(figsize=(6, 7))\n",
    "ax = fig.add_subplot(111, projection=\"3d\")\n",
    "\n",
    "ax.plot_surface(x, t, error.detach().numpy(), cmap=\"viridis\")\n",
    "\n",
    "ax.xaxis.pane.fill = False\n",
    "ax.yaxis.pane.fill = False\n",
    "ax.zaxis.pane.fill = False\n",
    "\n",
    "ax.xaxis.pane.set_edgecolor(\"w\")\n",
    "ax.yaxis.pane.set_edgecolor(\"w\")\n",
    "ax.zaxis.pane.set_edgecolor(\"w\")\n",
    "ax.set_yticks([0, 0.5, 1])\n",
    "ax.set_xlabel(r\"$\\zeta$\")\n",
    "ax.set_ylabel(r\"$\\tau$\")\n",
    "ax.set_zlabel(r\"$\\mathfrak{R}(\\zeta,\\tau)$\")\n",
    "ax.view_init(elev=15, azim=-260)\n",
    "\n",
    "\n",
    "ax.zaxis.set_major_formatter(ticker.ScalarFormatter(useMathText=True))\n",
    "ax.zaxis.get_major_formatter().set_scientific(True)\n",
    "ax.zaxis.get_major_formatter().set_powerlimits((0, 0))\n",
    "plt.savefig(\n",
    "    \"burgers-2-residual.pdf\",\n",
    "    bbox_inches=\"tight\",\n",
    "    pad_inches=0,\n",
    ")"
   ]
  },
  {
   "cell_type": "code",
   "execution_count": null,
   "id": "253ba440-8088-4bb9-ad13-ab19bd4f4172",
   "metadata": {},
   "outputs": [],
   "source": []
  }
 ],
 "metadata": {
  "kernelspec": {
   "display_name": "Python 3 (ipykernel)",
   "language": "python",
   "name": "python3"
  },
  "language_info": {
   "codemirror_mode": {
    "name": "ipython",
    "version": 3
   },
   "file_extension": ".py",
   "mimetype": "text/x-python",
   "name": "python",
   "nbconvert_exporter": "python",
   "pygments_lexer": "ipython3",
   "version": "3.11.5"
  }
 },
 "nbformat": 4,
 "nbformat_minor": 5
}
