{
 "cells": [
  {
   "cell_type": "code",
   "execution_count": 1,
   "id": "8a7d9c90-6983-401c-aec7-06bdcc664849",
   "metadata": {
    "execution": {
     "iopub.execute_input": "2024-06-11T22:48:35.250269Z",
     "iopub.status.busy": "2024-06-11T22:48:35.249605Z",
     "iopub.status.idle": "2024-06-11T22:48:35.574328Z",
     "shell.execute_reply": "2024-06-11T22:48:35.573627Z",
     "shell.execute_reply.started": "2024-06-11T22:48:35.250220Z"
    }
   },
   "outputs": [],
   "source": [
    "import matplotlib as mpl\n",
    "import matplotlib.pyplot as plt\n",
    "import matplotlib.ticker as ticker\n",
    "import numpy as np\n",
    "import scienceplots\n",
    "import torch\n",
    "import torch.nn as nn\n",
    "import torch.nn.functional as F\n",
    "from scipy.special import gamma\n",
    "from torch import optim\n",
    "from torch.autograd import Variable\n",
    "from fkan.torch import FractionalJacobiNeuralBlock as fJNB"
   ]
  },
  {
   "cell_type": "code",
   "execution_count": 2,
   "id": "5e85791d-8c69-4810-b1f1-111179e19fc7",
   "metadata": {
    "execution": {
     "iopub.execute_input": "2024-06-11T22:48:35.977856Z",
     "iopub.status.busy": "2024-06-11T22:48:35.977352Z",
     "iopub.status.idle": "2024-06-11T22:48:36.102850Z",
     "shell.execute_reply": "2024-06-11T22:48:36.101875Z",
     "shell.execute_reply.started": "2024-06-11T22:48:35.977819Z"
    }
   },
   "outputs": [],
   "source": [
    "plt.style.use(\"science\")\n",
    "mpl.use(\"pgf\")\n",
    "\n",
    "plt.rcParams.update(\n",
    "    {\"text.usetex\": True, \"pgf.preamble\": r\"\\usepackage{amssymb} \\usepackage{amsmath}\"}\n",
    ")"
   ]
  },
  {
   "cell_type": "code",
   "execution_count": 3,
   "id": "2345a65a-cfb2-407e-b633-a2415d02ce29",
   "metadata": {
    "execution": {
     "iopub.execute_input": "2024-06-11T22:48:50.425637Z",
     "iopub.status.busy": "2024-06-11T22:48:50.425315Z",
     "iopub.status.idle": "2024-06-11T22:48:50.433864Z",
     "shell.execute_reply": "2024-06-11T22:48:50.432967Z",
     "shell.execute_reply.started": "2024-06-11T22:48:50.425612Z"
    }
   },
   "outputs": [],
   "source": [
    "def dy_dx(y, x):\n",
    "    return torch.autograd.grad(\n",
    "        y, x, grad_outputs=torch.ones_like(y), create_graph=True\n",
    "    )[0]\n",
    "\n",
    "\n",
    "def fracmatrix(N, b, alpha):\n",
    "    A = torch.zeros((N, N))\n",
    "    t = torch.linspace(0, b, N)\n",
    "    dt = t[1] - t[0]\n",
    "\n",
    "    for i in range(1, N):\n",
    "        A[i, : i + 1] = fracweights(1 + i, dt, alpha)\n",
    "\n",
    "    return t, A\n",
    "\n",
    "\n",
    "def fracweights(n, dt, alpha):\n",
    "    start = float(n - 1)\n",
    "    mu = torch.zeros(n + 1)\n",
    "    p = (torch.arange(start, -1.0, -1) * dt) ** (1 - alpha)\n",
    "    mu[1:n] = (p[:-1] - p[1:]) / (gamma(2 - alpha) * dt)\n",
    "    w = mu[:-1] - mu[1:]\n",
    "    return w\n",
    "\n",
    "\n",
    "def closure():\n",
    "    loss = get_loss(x)\n",
    "    optimizer.zero_grad()\n",
    "    loss.backward()\n",
    "    return loss"
   ]
  },
  {
   "cell_type": "code",
   "execution_count": 5,
   "id": "7ba0362d-6f61-4ef7-8f59-650b552a2ac6",
   "metadata": {
    "execution": {
     "iopub.execute_input": "2024-06-11T22:49:06.883752Z",
     "iopub.status.busy": "2024-06-11T22:49:06.883334Z",
     "iopub.status.idle": "2024-06-11T22:49:06.893821Z",
     "shell.execute_reply": "2024-06-11T22:49:06.892374Z",
     "shell.execute_reply.started": "2024-06-11T22:49:06.883722Z"
    }
   },
   "outputs": [],
   "source": [
    "class Model(nn.Module):\n",
    "    def __init__(self):\n",
    "        super(Model, self).__init__()\n",
    "\n",
    "        self.jacobies = []\n",
    "        self.hiddens = []\n",
    "        self.denses = []\n",
    "\n",
    "        n_hidden = 10\n",
    "        for i in range(1, 7):\n",
    "            act = fJNB(i)\n",
    "            # act = nn.Tanh()\n",
    "            self.jacobies.append(act)\n",
    "            self.hiddens.append(nn.Linear(1, n_hidden))\n",
    "\n",
    "        self.aggregate = nn.Linear(n_hidden * len(self.jacobies), n_hidden)\n",
    "\n",
    "        for i in range(3):\n",
    "            self.denses.append(nn.Linear(n_hidden, n_hidden))\n",
    "\n",
    "        self.output = nn.Linear(n_hidden, 1)\n",
    "\n",
    "    def forward(self, x):\n",
    "        acts = []\n",
    "        for hidden, jacobi in zip(self.hiddens, self.jacobies):\n",
    "            q = hidden(x)\n",
    "            acts.append(jacobi(q))\n",
    "        h = torch.cat(acts, dim=1)\n",
    "        agg = self.aggregate(h)\n",
    "        for i in range(len(self.denses)):\n",
    "            agg = self.denses[i](agg)\n",
    "        output = self.output(agg)\n",
    "        return output"
   ]
  },
  {
   "cell_type": "code",
   "execution_count": 6,
   "id": "9c6266ff-a3d0-4584-adb7-e9b1894473fe",
   "metadata": {
    "execution": {
     "iopub.execute_input": "2024-06-11T22:49:24.957771Z",
     "iopub.status.busy": "2024-06-11T22:49:24.957417Z",
     "iopub.status.idle": "2024-06-11T22:49:25.807376Z",
     "shell.execute_reply": "2024-06-11T22:49:25.806326Z",
     "shell.execute_reply.started": "2024-06-11T22:49:24.957747Z"
    }
   },
   "outputs": [],
   "source": [
    "alpha = 0.3\n",
    "\n",
    "domain = 0, 1\n",
    "\n",
    "n_discretization = 300 * (domain[1] - domain[0])\n",
    "\n",
    "x, FM = fracmatrix(n_discretization, domain[1], alpha)\n",
    "FM = FM.clone()\n",
    "x = Variable(x.detach().clone(), requires_grad=True).reshape(-1, 1)\n",
    "\n",
    "mlp = Model()\n",
    "\n",
    "optimizer = optim.LBFGS(list(mlp.parameters()), lr=0.05)"
   ]
  },
  {
   "cell_type": "code",
   "execution_count": 7,
   "id": "b3d75fc0-ad6b-4bbf-9c7c-477156a08f15",
   "metadata": {
    "execution": {
     "iopub.execute_input": "2024-06-11T22:49:41.115669Z",
     "iopub.status.busy": "2024-06-11T22:49:41.115377Z",
     "iopub.status.idle": "2024-06-11T22:49:41.121379Z",
     "shell.execute_reply": "2024-06-11T22:49:41.120478Z",
     "shell.execute_reply.started": "2024-06-11T22:49:41.115648Z"
    }
   },
   "outputs": [],
   "source": [
    "def get_loss(x, ret_res=False):\n",
    "    y = mlp(x)\n",
    "    t = x - 1\n",
    "    y_t = mlp(t)\n",
    "    fracdiff = FM @ y\n",
    "    residual = (\n",
    "        fracdiff\n",
    "        - y_t\n",
    "        + y\n",
    "        - 1\n",
    "        + 3 * x\n",
    "        - 3 * x**2\n",
    "        - ((2000 * x**2.7) / (1071 * gamma(0.7)))\n",
    "    )\n",
    "    boundary1 = y[0] - 0\n",
    "\n",
    "    loss = 1e4 * ((residual**2).mean() + boundary1**2)\n",
    "    return (loss, residual) if ret_res else loss"
   ]
  },
  {
   "cell_type": "code",
   "execution_count": null,
   "id": "aa165b2d-ad27-41ac-bdec-a881958b7b30",
   "metadata": {
    "execution": {
     "iopub.execute_input": "2024-06-11T22:49:52.311871Z",
     "iopub.status.busy": "2024-06-11T22:49:52.311520Z"
    }
   },
   "outputs": [
    {
     "name": "stdout",
     "output_type": "stream",
     "text": [
      "Epoch   0: Current loss: 1.26e+04\n",
      "Epoch   2: Current loss: 1.23e+03\n",
      "Epoch   4: Current loss: 2.19e+01\n",
      "Epoch   6: Current loss: 4.66e+00\n",
      "Epoch   8: Current loss: 4.28e+00\n",
      "Epoch  10: Current loss: 3.38e+00\n",
      "Epoch  12: Current loss: 1.50e+00\n",
      "Epoch  14: Current loss: 1.39e+00\n",
      "Epoch  16: Current loss: 1.39e+00\n"
     ]
    }
   ],
   "source": [
    "losses = []\n",
    "for i in range(30):\n",
    "    loss = get_loss(x)\n",
    "    optimizer.step(closure)\n",
    "    losses.append(loss.detach().numpy())\n",
    "    if i % 2 == 0:\n",
    "        print(\"Epoch %3d: Current loss: %.2e\" % (i, losses[-1]))"
   ]
  },
  {
   "cell_type": "code",
   "execution_count": null,
   "id": "f4f7658a-ad72-4214-9578-a48630831bb1",
   "metadata": {},
   "outputs": [],
   "source": [
    "fig, axs = plt.subplots(1, 3, figsize=(15, 4.5))\n",
    "\n",
    "x_test = torch.linspace(0, 1, x.shape[0] + 1)[1:].reshape(-1, 1)\n",
    "loss, res = get_loss(x_test, ret_res=True)\n",
    "predict = mlp.forward(x_test).detach().numpy().flatten()\n",
    "exact = (x_test**3).detach().numpy().flatten()\n",
    "\n",
    "axs[0].plot(x_test, exact, \"g-\", label=\"exact\", lw=2)\n",
    "axs[0].plot(\n",
    "    [*x_test[::19], x_test[-1]],\n",
    "    [*predict[::19], predict[-1]],\n",
    "    \"r*\",\n",
    "    label=\"Prediction\",\n",
    "    lw=2,\n",
    ")\n",
    "\n",
    "axs[1].plot(x_test, predict - exact, \"c\", label=\"Loss\")\n",
    "axs[2].plot(x_test, res.detach().numpy(), \"c\", label=\"Res\")\n",
    "titles = [r\"$\\chi(\\tau)$\", r\"$\\mathfrak{R}(\\tau)$\", r\"Network $\\mathfrak{R}(\\tau)$\"]\n",
    "axs[0].legend()\n",
    "\n",
    "for i in range(1, 3):\n",
    "    axs[i].yaxis.set_major_formatter(ticker.ScalarFormatter(useMathText=True))\n",
    "    axs[i].yaxis.get_major_formatter().set_scientific(True)\n",
    "    axs[i].yaxis.get_major_formatter().set_powerlimits((0, 0))\n",
    "\n",
    "\n",
    "for ax, title in zip(axs, titles):\n",
    "    ax.set_ylabel(title)\n",
    "    ax.set_xlabel(r\"$\\tau$\")\n",
    "\n",
    "\n",
    "fig.savefig(\n",
    "    \"fractional-delay.pdf\",\n",
    "    bbox_inches=\"tight\",\n",
    "    pad_inches=0,\n",
    ")"
   ]
  },
  {
   "cell_type": "code",
   "execution_count": null,
   "id": "ac4e2126-9266-40ea-84e8-40fb07d458bf",
   "metadata": {},
   "outputs": [],
   "source": []
  }
 ],
 "metadata": {
  "kernelspec": {
   "display_name": "Python 3 (ipykernel)",
   "language": "python",
   "name": "python3"
  },
  "language_info": {
   "codemirror_mode": {
    "name": "ipython",
    "version": 3
   },
   "file_extension": ".py",
   "mimetype": "text/x-python",
   "name": "python",
   "nbconvert_exporter": "python",
   "pygments_lexer": "ipython3",
   "version": "3.11.5"
  }
 },
 "nbformat": 4,
 "nbformat_minor": 5
}
