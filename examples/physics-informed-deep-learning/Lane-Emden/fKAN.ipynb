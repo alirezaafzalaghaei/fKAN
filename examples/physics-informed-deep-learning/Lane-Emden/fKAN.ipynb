{
 "cells": [
  {
   "cell_type": "code",
   "execution_count": 1,
   "id": "f821bd44-3437-4584-9d0f-2a4da7a77635",
   "metadata": {
    "execution": {
     "iopub.execute_input": "2024-06-11T22:36:18.050693Z",
     "iopub.status.busy": "2024-06-11T22:36:18.050287Z",
     "iopub.status.idle": "2024-06-11T22:36:19.459931Z",
     "shell.execute_reply": "2024-06-11T22:36:19.458899Z",
     "shell.execute_reply.started": "2024-06-11T22:36:18.050661Z"
    }
   },
   "outputs": [],
   "source": [
    "import matplotlib.pyplot as plt\n",
    "import numpy as np\n",
    "import torch\n",
    "import torch.nn as nn\n",
    "import torch.nn.functional as F\n",
    "from fkan.torch import FractionalJacobiNeuralBlock as fJNB\n",
    "from torch import optim"
   ]
  },
  {
   "cell_type": "markdown",
   "id": "195d13cd-99c4-448b-b6b6-77d5fcd77cc9",
   "metadata": {},
   "source": [
    "If using a predefined Keras activation function, comment out `act = fJNB(q)` and uncomment `act = nn.Activation()`, specifying your desired activation function."
   ]
  },
  {
   "cell_type": "code",
   "execution_count": 2,
   "id": "7ba0362d-6f61-4ef7-8f59-650b552a2ac6",
   "metadata": {
    "execution": {
     "iopub.execute_input": "2024-06-11T22:36:19.461009Z",
     "iopub.status.busy": "2024-06-11T22:36:19.460751Z",
     "iopub.status.idle": "2024-06-11T22:36:19.466876Z",
     "shell.execute_reply": "2024-06-11T22:36:19.466139Z",
     "shell.execute_reply.started": "2024-06-11T22:36:19.460992Z"
    }
   },
   "outputs": [],
   "source": [
    "class Model(nn.Module):\n",
    "    def __init__(self):\n",
    "        super(Model, self).__init__()\n",
    "\n",
    "        self.jacobies = []\n",
    "        self.hiddens = []\n",
    "        for i in range(1, 7):\n",
    "            act = fJNB(i)\n",
    "            # act = nn.Tanh()\n",
    "            self.jacobies.append(act)\n",
    "            self.hiddens.append(nn.Linear(1, 10))\n",
    "        self.output = nn.Linear(10 * len(self.jacobies), 1)\n",
    "\n",
    "    def forward(self, x):\n",
    "        acts = []\n",
    "        for hidden, jacobi in zip(self.hiddens, self.jacobies):\n",
    "            q = hidden(x)\n",
    "            acts.append(jacobi(q))\n",
    "        h = torch.cat(acts, dim=1)\n",
    "        output = self.output(h)\n",
    "        return output"
   ]
  },
  {
   "cell_type": "code",
   "execution_count": 3,
   "id": "2345a65a-cfb2-407e-b633-a2415d02ce29",
   "metadata": {
    "execution": {
     "iopub.execute_input": "2024-06-11T22:36:19.467730Z",
     "iopub.status.busy": "2024-06-11T22:36:19.467523Z",
     "iopub.status.idle": "2024-06-11T22:36:19.471912Z",
     "shell.execute_reply": "2024-06-11T22:36:19.471220Z",
     "shell.execute_reply.started": "2024-06-11T22:36:19.467711Z"
    }
   },
   "outputs": [],
   "source": [
    "def dy_dx(y, x):\n",
    "    return torch.autograd.grad(\n",
    "        y, x, grad_outputs=torch.ones_like(y), create_graph=True\n",
    "    )[0]"
   ]
  },
  {
   "cell_type": "code",
   "execution_count": 4,
   "id": "466e49ed-a1f5-47c4-8c4f-82a7f66c6101",
   "metadata": {
    "execution": {
     "iopub.execute_input": "2024-06-11T22:36:19.473000Z",
     "iopub.status.busy": "2024-06-11T22:36:19.472786Z",
     "iopub.status.idle": "2024-06-11T22:36:19.476490Z",
     "shell.execute_reply": "2024-06-11T22:36:19.475749Z",
     "shell.execute_reply.started": "2024-06-11T22:36:19.472981Z"
    }
   },
   "outputs": [],
   "source": [
    "def closure():\n",
    "    loss = get_loss(x)\n",
    "    optimizer.zero_grad()\n",
    "    loss.backward()\n",
    "    return loss"
   ]
  },
  {
   "cell_type": "code",
   "execution_count": 5,
   "id": "b3d75fc0-ad6b-4bbf-9c7c-477156a08f15",
   "metadata": {
    "execution": {
     "iopub.execute_input": "2024-06-11T22:36:19.477566Z",
     "iopub.status.busy": "2024-06-11T22:36:19.477362Z",
     "iopub.status.idle": "2024-06-11T22:36:19.481853Z",
     "shell.execute_reply": "2024-06-11T22:36:19.481230Z",
     "shell.execute_reply.started": "2024-06-11T22:36:19.477547Z"
    }
   },
   "outputs": [],
   "source": [
    "def get_loss(x):\n",
    "    global m\n",
    "    y = mlp.forward(x)\n",
    "    y_x = dy_dx(y, x)\n",
    "    y_xx = dy_dx(y_x, x)\n",
    "    residual = x * y_xx + 2 * y_x + x * y**m\n",
    "    initial1 = y[0] - 1  # float\n",
    "    initial2 = y_x[0] - 0  # float\n",
    "\n",
    "    loss = 1e5 * ((residual**2).mean() + initial1**2 + initial2**2)\n",
    "    return loss"
   ]
  },
  {
   "cell_type": "code",
   "execution_count": 6,
   "id": "92ba7d22-4dff-4fe1-a359-c78d97cc981d",
   "metadata": {
    "execution": {
     "iopub.execute_input": "2024-06-11T22:36:19.483084Z",
     "iopub.status.busy": "2024-06-11T22:36:19.482816Z",
     "iopub.status.idle": "2024-06-11T22:36:19.489324Z",
     "shell.execute_reply": "2024-06-11T22:36:19.488546Z",
     "shell.execute_reply.started": "2024-06-11T22:36:19.483062Z"
    }
   },
   "outputs": [],
   "source": [
    "def get_score(mlp, start, end, root_state_of_the_art):\n",
    "    x_test = torch.linspace(start, end, 100000)[1:].reshape(-1, 1)\n",
    "    predict = mlp.forward(x_test).detach()\n",
    "    indx_root = torch.argmin(torch.abs(predict))\n",
    "    return x_test[indx_root].item() - root_state_of_the_art\n",
    "\n",
    "\n",
    "params_for_m = [\n",
    "    {\"start\": 2, \"end\": 3, \"root_state_of_the_art\": 2.44948974},\n",
    "    {\"start\": 3, \"end\": 4, \"root_state_of_the_art\": 3.14159265},\n",
    "    {\"start\": 4, \"end\": 5, \"root_state_of_the_art\": 4.35287460},\n",
    "    {\"start\": 6, \"end\": 7, \"root_state_of_the_art\": 6.8968486},\n",
    "    {\"start\": 14, \"end\": 15, \"root_state_of_the_art\": 14.9715463},\n",
    "]"
   ]
  },
  {
   "cell_type": "code",
   "execution_count": 7,
   "id": "e4383a07-4dab-49a1-8e10-88c6e1fc5768",
   "metadata": {
    "execution": {
     "iopub.execute_input": "2024-06-11T22:36:19.492700Z",
     "iopub.status.busy": "2024-06-11T22:36:19.492385Z",
     "iopub.status.idle": "2024-06-11T22:36:20.152646Z",
     "shell.execute_reply": "2024-06-11T22:36:20.151728Z",
     "shell.execute_reply.started": "2024-06-11T22:36:19.492675Z"
    }
   },
   "outputs": [],
   "source": [
    "m = 2\n",
    "score_params = params_for_m[m]\n",
    "\n",
    "x = torch.linspace(0, score_params[\"end\"], 1501, requires_grad=True).reshape(-1, 1)\n",
    "\n",
    "mlp = Model()\n",
    "optimizer = optim.LBFGS(list(mlp.parameters()), lr=0.1)"
   ]
  },
  {
   "cell_type": "code",
   "execution_count": 8,
   "id": "aa165b2d-ad27-41ac-bdec-a881958b7b30",
   "metadata": {
    "execution": {
     "iopub.execute_input": "2024-06-11T22:36:20.153763Z",
     "iopub.status.busy": "2024-06-11T22:36:20.153508Z",
     "iopub.status.idle": "2024-06-11T22:37:35.672954Z",
     "shell.execute_reply": "2024-06-11T22:37:35.672169Z",
     "shell.execute_reply.started": "2024-06-11T22:36:20.153745Z"
    }
   },
   "outputs": [
    {
     "name": "stdout",
     "output_type": "stream",
     "text": [
      "Epoch   0: Current loss: 2.41e+05, Error Predicted Root: 2.79e-01\n",
      "Epoch   2: Current loss: 1.15e+02, Error Predicted Root: -2.48e-02\n",
      "Epoch   4: Current loss: 1.06e+00, Error Predicted Root: -2.06e-03\n",
      "Epoch   6: Current loss: 3.95e-01, Error Predicted Root: 6.09e-04\n",
      "Epoch   8: Current loss: 8.29e-02, Error Predicted Root: 2.88e-05\n",
      "Epoch  10: Current loss: 7.34e-02, Error Predicted Root: -1.07e-03\n",
      "Epoch  12: Current loss: 3.95e-02, Error Predicted Root: -1.61e-03\n",
      "Epoch  14: Current loss: 2.67e-02, Error Predicted Root: -5.11e-04\n",
      "Epoch  16: Current loss: 2.19e-02, Error Predicted Root: -2.61e-04\n",
      "Epoch  18: Current loss: 1.83e-01, Error Predicted Root: 4.39e-04\n"
     ]
    }
   ],
   "source": [
    "losses = []\n",
    "scores = []\n",
    "for i in range(50):\n",
    "    loss = get_loss(x)\n",
    "    optimizer.step(closure)\n",
    "    losses.append(loss.detach().numpy())\n",
    "    scores.append(get_score(mlp, **score_params))\n",
    "    if i % 2 == 0:\n",
    "        print(\n",
    "            \"Epoch %3d: Current loss: %.2e, Error Predicted Root: %.2e\"\n",
    "            % (i, losses[-1], scores[-1])\n",
    "        )"
   ]
  },
  {
   "cell_type": "code",
   "execution_count": 9,
   "id": "312194d7-9c86-486a-99ff-5258ba31c5f3",
   "metadata": {
    "execution": {
     "iopub.execute_input": "2024-06-11T22:37:35.674473Z",
     "iopub.status.busy": "2024-06-11T22:37:35.673996Z",
     "iopub.status.idle": "2024-06-11T22:37:35.679993Z",
     "shell.execute_reply": "2024-06-11T22:37:35.678729Z",
     "shell.execute_reply.started": "2024-06-11T22:37:35.674427Z"
    }
   },
   "outputs": [
    {
     "name": "stdout",
     "output_type": "stream",
     "text": [
      "best score: 8.74e-06\n"
     ]
    }
   ],
   "source": [
    "print(\"best score: %.2e\" % min(scores, key=abs))"
   ]
  },
  {
   "cell_type": "code",
   "execution_count": 10,
   "id": "23d1f84d-860e-4e6a-8639-e1ed27f5d93a",
   "metadata": {
    "execution": {
     "iopub.execute_input": "2024-06-11T22:37:35.681847Z",
     "iopub.status.busy": "2024-06-11T22:37:35.681422Z",
     "iopub.status.idle": "2024-06-11T22:37:35.690003Z",
     "shell.execute_reply": "2024-06-11T22:37:35.688061Z",
     "shell.execute_reply.started": "2024-06-11T22:37:35.681813Z"
    }
   },
   "outputs": [],
   "source": [
    "# torch.save(mlp,'jnb-m-%d.pt' % m)"
   ]
  },
  {
   "cell_type": "code",
   "execution_count": 11,
   "id": "f4f7658a-ad72-4214-9578-a48630831bb1",
   "metadata": {
    "execution": {
     "iopub.execute_input": "2024-06-11T22:37:35.693829Z",
     "iopub.status.busy": "2024-06-11T22:37:35.692824Z",
     "iopub.status.idle": "2024-06-11T22:37:36.209301Z",
     "shell.execute_reply": "2024-06-11T22:37:36.208818Z",
     "shell.execute_reply.started": "2024-06-11T22:37:35.693757Z"
    }
   },
   "outputs": [
    {
     "data": {
      "image/png": "[encoded data removed]",
      "text/plain": [
       "<Figure size 1200x500 with 2 Axes>"
      ]
     },
     "metadata": {},
     "output_type": "display_data"
    }
   ],
   "source": [
    "fig, axs = plt.subplots(1, 2, figsize=(12, 5))\n",
    "\n",
    "x_test = torch.linspace(0, x[-1, 0], 10000)[1:].reshape(-1, 1)\n",
    "\n",
    "predict = mlp.forward(x_test).detach().numpy()\n",
    "np.save(\"m-%d.npy\" % m, predict)\n",
    "\n",
    "axs[0].plot(x_test, predict, \"g-\", label=\"Predict\")\n",
    "\n",
    "axs[1].plot(np.log10(losses), \"c\", label=\"Loss\")\n",
    "\n",
    "for ax in axs:\n",
    "    ax.legend()"
   ]
  },
  {
   "cell_type": "code",
   "execution_count": null,
   "id": "55724e62-7a92-4fc6-a9d9-c1a586eb37f5",
   "metadata": {},
   "outputs": [],
   "source": []
  }
 ],
 "metadata": {
  "kernelspec": {
   "display_name": "Python 3 (ipykernel)",
   "language": "python",
   "name": "python3"
  },
  "language_info": {
   "codemirror_mode": {
    "name": "ipython",
    "version": 3
   },
   "file_extension": ".py",
   "mimetype": "text/x-python",
   "name": "python",
   "nbconvert_exporter": "python",
   "pygments_lexer": "ipython3",
   "version": "3.11.5"
  }
 },
 "nbformat": 4,
 "nbformat_minor": 5
}
